{
 "cells": [
  {
   "cell_type": "markdown",
   "metadata": {},
   "source": [
    "# Lab4-Assignment about Named Entity Recognition and Classification\n",
    "\n",
    "This notebook describes the assignment of Lab 4 of the text mining course. We assume you have succesfully completed Lab1, Lab2 and Lab3 as welll. Especially Lab2 is important for completing this assignment.\n",
    "\n",
    "**Learning goals**\n",
    "* going from linguistic input format to representing it in a feature space\n",
    "* working with pretrained word embeddings\n",
    "* train a supervised classifier (SVM)\n",
    "* evaluate a supervised classifier (SVM)\n",
    "* learn how to interpret the system output and the evaluation results\n",
    "* be able to propose future improvements based on the observed results\n"
   ]
  },
  {
   "cell_type": "markdown",
   "metadata": {},
   "source": [
    "## Credits\n",
    "This notebook was originally created by [Marten Postma](https://martenpostma.github.io) and [Filip Ilievski](http://ilievski.nl) and adapted by Piek vossen"
   ]
  },
  {
   "cell_type": "markdown",
   "metadata": {},
   "source": [
    "## [Points: 18] Exercise 1 (NERC): Training and evaluating an SVM using CoNLL-2003"
   ]
  },
  {
   "cell_type": "markdown",
   "metadata": {},
   "source": [
    "**[4 point] a) Load the CoNLL-2003 training data using the *ConllCorpusReader* and create for both *train.txt* and *test.txt*:**\n",
    "\n",
    "    [2 points]  -a list of dictionaries representing the features for each training instances, e..g,\n",
    "    ```\n",
    "    [\n",
    "    {'words': 'EU', 'pos': 'NNP'}, \n",
    "    {'words': 'rejects', 'pos': 'VBZ'},\n",
    "    ...\n",
    "    ]\n",
    "    ```\n",
    "\n",
    "    [2 points] -the NERC labels associated with each training instance, e.g.,\n",
    "    dictionaries, e.g.,\n",
    "    ```\n",
    "    [\n",
    "    'B-ORG', \n",
    "    'O',\n",
    "    ....\n",
    "    ]\n",
    "    ```"
   ]
  },
  {
   "cell_type": "code",
   "execution_count": 32,
   "metadata": {},
   "outputs": [],
   "source": [
    "filename = \"/Users/owhy/Desktop/github/TextMining-VU-2024/lab4/CONLL2003\""
   ]
  },
  {
   "cell_type": "code",
   "execution_count": 33,
   "metadata": {},
   "outputs": [],
   "source": [
    "from nltk.corpus.reader import ConllCorpusReader\n",
    "### Adapt the path to point to the CONLL2003 folder on your local machine\n",
    "train = ConllCorpusReader(filename, \"train.txt\", [\"words\", \"pos\", \"ignore\", \"chunk\"])\n",
    "training_features = []\n",
    "training_gold_labels = []\n",
    "\n",
    "for token, pos, ne_label in train.iob_words():\n",
    "    a_dict = {\n",
    "        \"word\": token,\n",
    "        \"pos\": pos,\n",
    "        \"word.lower()\": token.lower(),  # lower case variant of the token\n",
    "        \"suffix-2char\": token[-2:],  # suffix of 2 characters\n",
    "        \"capitalization\": token.isupper(),  # initial captial\n",
    "        \"capitalization_all\": token.istitle(),  # all words ini caps\n",
    "        \"digit\": token.isdigit(),\n",
    "    }\n",
    "    training_features.append(a_dict)\n",
    "    training_gold_labels.append(ne_label)"
   ]
  },
  {
   "cell_type": "code",
   "execution_count": 36,
   "metadata": {},
   "outputs": [],
   "source": [
    "### Adapt the path to point to the CONLL2003 folder on your local machine\n",
    "test = ConllCorpusReader(filename, \"test.txt\", [\"words\", \"pos\", \"ignore\", \"chunk\"])\n",
    "\n",
    "test_features = []\n",
    "test_gold_labels = []\n",
    "for token, pos, ne_label in test.iob_words():\n",
    "    a_dict = {\n",
    "        \"word\": token,\n",
    "        \"pos\": pos,\n",
    "        \"word.lower()\": token.lower(),  # lower case variant of the token\n",
    "        \"suffix-2char\": token[-2:],  # suffix of 2 characters\n",
    "        \"capitalization\": token.isupper(),  # initial captial\n",
    "        \"capitalization_all\": token.istitle(),  # all words ini caps\n",
    "        \"digit\": token.isdigit(),\n",
    "    }\n",
    "    test_features.append(a_dict)\n",
    "    test_gold_labels.append(ne_label)"
   ]
  },
  {
   "cell_type": "code",
   "execution_count": 38,
   "metadata": {},
   "outputs": [
    {
     "name": "stdout",
     "output_type": "stream",
     "text": [
      "Training Data Examples:\n",
      "Features: {'word': 'EU', 'pos': 'NNP', 'word.lower()': 'eu', 'suffix-2char': 'EU', 'capitalization': True, 'capitalization_all': False, 'digit': False}\n",
      "Gold Label: B-ORG\n",
      "\n",
      "Features: {'word': 'rejects', 'pos': 'VBZ', 'word.lower()': 'rejects', 'suffix-2char': 'ts', 'capitalization': False, 'capitalization_all': False, 'digit': False}\n",
      "Gold Label: O\n",
      "\n",
      "Test Data Examples:\n",
      "Features: {'word': 'SOCCER', 'pos': 'NN', 'word.lower()': 'soccer', 'suffix-2char': 'ER', 'capitalization': True, 'capitalization_all': False, 'digit': False}\n",
      "Gold Label: O\n",
      "\n",
      "Features: {'word': '-', 'pos': ':', 'word.lower()': '-', 'suffix-2char': '-', 'capitalization': False, 'capitalization_all': False, 'digit': False}\n",
      "Gold Label: O\n",
      "\n"
     ]
    }
   ],
   "source": [
    "# Print examples from the training data\n",
    "print(\"Training Data Examples:\")\n",
    "for i in range(2):\n",
    "    print(\"Features:\", training_features[i])\n",
    "    print(\"Gold Label:\", training_gold_labels[i])\n",
    "    print()\n",
    "\n",
    "# Print examples from the test data\n",
    "print(\"Test Data Examples:\")\n",
    "for i in range(2):  # Iterate over the entire test_features list\n",
    "    print(\"Features:\", test_features[i])\n",
    "    print(\"Gold Label:\", test_gold_labels[i])\n",
    "    print()"
   ]
  },
  {
   "cell_type": "markdown",
   "metadata": {},
   "source": [
    "**[2 points] b) provide descriptive statistics about the training and test data:**\n",
    "* How many instances are in train and test?\n",
    "* Provide a frequency distribution of the NERC labels, i.e., how many times does each NERC label occur?\n",
    "* Discuss to what extent the training and test data is balanced (equal amount of instances for each NERC label) and to what extent the training and test data differ?\n",
    "\n",
    "Tip: you can use the following `Counter` functionality to generate frequency list of a list:"
   ]
  },
  {
   "cell_type": "code",
   "execution_count": 40,
   "metadata": {},
   "outputs": [
    {
     "name": "stdout",
     "output_type": "stream",
     "text": [
      "Number of instances in train: 203621\n",
      "Number of instances in test: 46435\n",
      "\n",
      "Frequency distribution of NERC labels in train:\n",
      "Counter({'O': 169578, 'B-LOC': 7140, 'B-PER': 6600, 'B-ORG': 6321, 'I-PER': 4528, 'I-ORG': 3704, 'B-MISC': 3438, 'I-LOC': 1157, 'I-MISC': 1155})\n",
      "\n",
      "Frequency distribution of NERC labels in test:\n",
      "Counter({'O': 38323, 'B-LOC': 1668, 'B-ORG': 1661, 'B-PER': 1617, 'I-PER': 1156, 'I-ORG': 835, 'B-MISC': 702, 'I-LOC': 257, 'I-MISC': 216})\n",
      "\n",
      "Balance of NERC labels in train data:\n",
      "{'B-ORG': 0.03104296708099852, 'O': 0.832811939829389, 'B-MISC': 0.016884309575142052, 'B-PER': 0.0324131597428556, 'I-PER': 0.022237392017522752, 'B-LOC': 0.03506514553999833, 'I-ORG': 0.018190658134475325, 'I-MISC': 0.00567230295499973, 'I-LOC': 0.005682125124618777}\n",
      "\n",
      "Balance of NERC labels in test data:\n",
      "{'O': 0.8253041886508022, 'B-LOC': 0.03592118014428771, 'B-PER': 0.03482287067944438, 'I-PER': 0.0248950145364488, 'I-LOC': 0.005534618283622268, 'B-MISC': 0.015117906751372886, 'I-MISC': 0.004651663615807042, 'B-ORG': 0.03577043178636804, 'I-ORG': 0.017982125551846667}\n"
     ]
    }
   ],
   "source": [
    "from collections import Counter\n",
    "\n",
    "# Count the occurrences of each NERC label in the training data\n",
    "train_label_counts = Counter(training_gold_labels)\n",
    "\n",
    "# Count the occurrences of each NERC label in the test data\n",
    "test_label_counts = Counter(test_gold_labels)\n",
    "\n",
    "# Print the number of instances in train and test\n",
    "print(\"Number of instances in train:\", len(training_gold_labels))\n",
    "print(\"Number of instances in test:\", len(test_gold_labels))\n",
    "\n",
    "# Print the frequency distribution of NERC labels in train and test\n",
    "print(\"\\nFrequency distribution of NERC labels in train:\")\n",
    "print(train_label_counts)\n",
    "\n",
    "print(\"\\nFrequency distribution of NERC labels in test:\")\n",
    "print(test_label_counts)\n",
    "\n",
    "# Discuss the balance and differences between train and test data\n",
    "train_total_instances = len(training_gold_labels)\n",
    "test_total_instances = len(test_gold_labels)\n",
    "\n",
    "train_balance = {\n",
    "    label: count / train_total_instances for label, count in train_label_counts.items()\n",
    "}\n",
    "test_balance = {\n",
    "    label: count / test_total_instances for label, count in test_label_counts.items()\n",
    "}\n",
    "\n",
    "print(\"\\nBalance of NERC labels in train data:\")\n",
    "print(train_balance)\n",
    "\n",
    "print(\"\\nBalance of NERC labels in test data:\")\n",
    "print(test_balance)"
   ]
  },
  {
   "cell_type": "markdown",
   "metadata": {},
   "source": [
    "**[2 points] c) Concatenate the train and test features (the list of dictionaries) into one list. Load it using the *DictVectorizer*. Afterwards, split it back to training and test.**\n",
    "\n",
    "Tip: You’ve concatenated train and test into one list and then you’ve applied the DictVectorizer.\n",
    "The order of the rows is maintained. You can hence use an index (number of training instances) to split the_array back into train and test. Do NOT use: `\n",
    "from sklearn.model_selection import train_test_split` here.\n"
   ]
  },
  {
   "cell_type": "code",
   "execution_count": 5,
   "metadata": {},
   "outputs": [],
   "source": [
    "from sklearn.feature_extraction import DictVectorizer"
   ]
  },
  {
   "cell_type": "code",
   "execution_count": 6,
   "metadata": {},
   "outputs": [
    {
     "ename": "SyntaxError",
     "evalue": "invalid syntax (1177049845.py, line 2)",
     "output_type": "error",
     "traceback": [
      "\u001b[0;36m  Cell \u001b[0;32mIn[6], line 2\u001b[0;36m\u001b[0m\n\u001b[0;31m    the_array = # your code here\u001b[0m\n\u001b[0m                ^\u001b[0m\n\u001b[0;31mSyntaxError\u001b[0m\u001b[0;31m:\u001b[0m invalid syntax\n"
     ]
    }
   ],
   "source": [
    "vec = DictVectorizer()\n",
    "the_array = # your code here"
   ]
  },
  {
   "cell_type": "markdown",
   "metadata": {},
   "source": [
    "**[4 points] d) Train the SVM using the train features and labels and evaluate on the test data. Provide a classification report (sklearn.metrics.classification_report).**\n",
    "The train (*lin_clf.fit*) might take a while. On my computer, it took 1min 53s, which is acceptable. Training models normally takes much longer. If it takes more than 5 minutes, you can use a subset for training. Describe the results:\n",
    "* Which NERC labels does the classifier perform well on? Why do you think this is the case?\n",
    "* Which NERC labels does the classifier perform poorly on? Why do you think this is the case?"
   ]
  },
  {
   "cell_type": "code",
   "execution_count": null,
   "metadata": {},
   "outputs": [],
   "source": [
    "from sklearn import svm"
   ]
  },
  {
   "cell_type": "code",
   "execution_count": null,
   "metadata": {},
   "outputs": [],
   "source": [
    "lin_clf = svm.LinearSVC()"
   ]
  },
  {
   "cell_type": "code",
   "execution_count": null,
   "metadata": {},
   "outputs": [],
   "source": [
    "##### [ YOUR CODE SHOULD GO HERE ]\n",
    "# lin_clf.fit( # your code here"
   ]
  },
  {
   "cell_type": "markdown",
   "metadata": {},
   "source": [
    "**[6 points] e) Train a model that uses the embeddings of these words as inputs. Test again on the same data as in 2d. Generate a classification report and compare the results with the classifier you built in 2d.**"
   ]
  },
  {
   "cell_type": "code",
   "execution_count": null,
   "metadata": {},
   "outputs": [],
   "source": [
    "# your code here"
   ]
  },
  {
   "cell_type": "markdown",
   "metadata": {},
   "source": [
    "# --------------------"
   ]
  },
  {
   "cell_type": "markdown",
   "metadata": {},
   "source": [
    "# --------------------"
   ]
  },
  {
   "cell_type": "markdown",
   "metadata": {},
   "source": [
    "## [Points: 10] Exercise 2 (NERC): feature inspection using the [Annotated Corpus for Named Entity Recognition](https://www.kaggle.com/abhinavwalia95/entity-annotated-corpus)\n",
    "**[6 points] a. Perform the same steps as in the previous exercise. Make sure you end up for both the training part (*df_train*) and the test part (*df_test*) with:**\n",
    "* the features representation using **DictVectorizer**\n",
    "* the NERC labels in a list\n",
    "\n",
    "Please note that this is the same setup as in the previous exercise:\n",
    "* load both train and test using:\n",
    "    * list of dictionaries for features\n",
    "    * list of NERC labels\n",
    "* combine train and test features in a list and represent them using one hot encoding\n",
    "* train using the training features and NERC labels"
   ]
  },
  {
   "cell_type": "code",
   "execution_count": null,
   "metadata": {},
   "outputs": [],
   "source": [
    "import pandas"
   ]
  },
  {
   "cell_type": "code",
   "execution_count": null,
   "metadata": {},
   "outputs": [],
   "source": [
    "##### Adapt the path to point to your local copy of NERC_datasets\n",
    "path = '/Users/piek/Desktop/ONDERWIJS/data/nerc_datasets/kaggle/ner_v2.csv'\n",
    "kaggle_dataset = pandas.read_csv(path, error_bad_lines=False)"
   ]
  },
  {
   "cell_type": "code",
   "execution_count": null,
   "metadata": {},
   "outputs": [],
   "source": [
    "len(kaggle_dataset)"
   ]
  },
  {
   "cell_type": "code",
   "execution_count": null,
   "metadata": {},
   "outputs": [],
   "source": [
    "df_train = kaggle_dataset[:100000]\n",
    "df_test = kaggle_dataset[100000:120000]\n",
    "print(len(df_train), len(df_test))"
   ]
  },
  {
   "cell_type": "markdown",
   "metadata": {},
   "source": [
    "**[4 points] b. Train and evaluate the model and provide the classification report:**\n",
    "* use the SVM to predict NERC labels on the test data\n",
    "* evaluate the performance of the SVM on the test data\n",
    "\n",
    "Analyze the performance per NERC label."
   ]
  },
  {
   "cell_type": "markdown",
   "metadata": {},
   "source": [
    "## End of this notebook"
   ]
  }
 ],
 "metadata": {
  "kernelspec": {
   "display_name": "Python 3",
   "language": "python",
   "name": "python3"
  },
  "language_info": {
   "codemirror_mode": {
    "name": "ipython",
    "version": 3
   },
   "file_extension": ".py",
   "mimetype": "text/x-python",
   "name": "python",
   "nbconvert_exporter": "python",
   "pygments_lexer": "ipython3",
   "version": "3.12.1"
  }
 },
 "nbformat": 4,
 "nbformat_minor": 4
}
