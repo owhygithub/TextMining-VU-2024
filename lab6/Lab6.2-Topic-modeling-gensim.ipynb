{
 "cells": [
  {
   "cell_type": "markdown",
   "metadata": {},
   "source": [
    "# Lab6.2: Topic modeling using gensim"
   ]
  },
  {
   "cell_type": "markdown",
   "metadata": {},
   "source": [
    "In this notebook, we demonstrate how LDA models can be built and applied using the *gensim* package.\n",
    "\n",
    "Credits:\n",
    "\n",
    "This notebook is an adaptation of a blog from Susan Li's:\n",
    "\n",
    "https://towardsdatascience.com/topic-modeling-and-latent-dirichlet-allocation-in-python-9bf156893c24\n",
    "\n"
   ]
  },
  {
   "cell_type": "markdown",
   "metadata": {},
   "source": [
    "The data set we’ll use is a list of over one million news headlines published over a period of 15 years and can be downloaded from:\n",
    "\n",
    "https://www.kaggle.com/therohk/million-headlines/data\n",
    "\n",
    "We read the CSV file using the pandas framework."
   ]
  },
  {
   "cell_type": "code",
   "execution_count": 1,
   "metadata": {},
   "outputs": [],
   "source": [
    "import pandas as pd\n",
    "\n",
    "#### Adapt the path below to point to your local copy of the data set\n",
    "data = pd.read_csv('../../../data/abcnews-date-text.csv', error_bad_lines=False);\n",
    "data_text = data[['headline_text']]\n",
    "data_text['index'] = data_text.index\n",
    "documents = data_text"
   ]
  },
  {
   "cell_type": "markdown",
   "metadata": {},
   "source": [
    "Let's have a look at the data:"
   ]
  },
  {
   "cell_type": "code",
   "execution_count": 2,
   "metadata": {},
   "outputs": [
    {
     "name": "stdout",
     "output_type": "stream",
     "text": [
      "1186018\n",
      "                                       headline_text  index\n",
      "0  aba decides against community broadcasting lic...      0\n",
      "1     act fire witnesses must be aware of defamation      1\n",
      "2     a g calls for infrastructure protection summit      2\n",
      "3           air nz staff in aust strike for pay rise      3\n",
      "4      air nz strike to affect australian travellers      4\n"
     ]
    }
   ],
   "source": [
    "print(len(documents))\n",
    "print(documents[:5])"
   ]
  },
  {
   "cell_type": "markdown",
   "metadata": {},
   "source": [
    "We are going to use the *gensim* package to build our LDA models from the data.\n",
    "Before building the model, we are going to preprocess the texts."
   ]
  },
  {
   "cell_type": "markdown",
   "metadata": {},
   "source": [
    "## Data Pre-processing\n",
    "We will perform the following steps:\n",
    "\n",
    "* Tokenization: Split the text into sentences and the sentences into words. Lowercase the words and remove punctuation.\n",
    "* Words that have fewer than 3 characters are removed.\n",
    "* All stopwords are removed.\n",
    "* Words are lemmatized — words in third person are changed to first person and verbs in past and future tenses are changed into present.\n",
    "* Words are stemmed — words are reduced to their root form.\n",
    "\n",
    "In order to apply these processing steps, we first load the gensim and nltk libraries"
   ]
  },
  {
   "cell_type": "code",
   "execution_count": 3,
   "metadata": {},
   "outputs": [
    {
     "name": "stderr",
     "output_type": "stream",
     "text": [
      "[nltk_data] Downloading package wordnet to /Users/piek/nltk_data...\n",
      "[nltk_data]   Package wordnet is already up-to-date!\n"
     ]
    }
   ],
   "source": [
    "import gensim\n",
    "from gensim.utils import simple_preprocess\n",
    "from gensim.parsing.preprocessing import STOPWORDS\n",
    "from nltk.stem import WordNetLemmatizer, SnowballStemmer\n",
    "from nltk.stem.porter import *\n",
    "import numpy as np\n",
    "np.random.seed(2018)\n",
    "import nltk\n",
    "nltk.download('wordnet')\n",
    "\n",
    "lemmatizer = WordNetLemmatizer()"
   ]
  },
  {
   "cell_type": "code",
   "execution_count": 4,
   "metadata": {},
   "outputs": [],
   "source": [
    "def lemmatize_stemming(text):\n",
    "    return lemmatizer.lemmatize(text)\n",
    "def preprocess(text):\n",
    "    result = []\n",
    "    for token in gensim.utils.simple_preprocess(text):\n",
    "        if token not in gensim.parsing.preprocessing.STOPWORDS and len(token) > 3:\n",
    "           # result.append(token)\n",
    "            result.append(lemmatize_stemming(token))\n",
    "    return result"
   ]
  },
  {
   "cell_type": "code",
   "execution_count": 5,
   "metadata": {},
   "outputs": [
    {
     "name": "stdout",
     "output_type": "stream",
     "text": [
      "original document: \n",
      "['ratepayers', 'group', 'wants', 'compulsory', 'local', 'govt', 'voting']\n",
      "\n",
      "\n",
      " tokenized and lemmatized document: \n",
      "['ratepayer', 'group', 'want', 'compulsory', 'local', 'govt', 'voting']\n"
     ]
    }
   ],
   "source": [
    "doc_sample = documents[documents['index'] == 4310].values[0][0]\n",
    "print('original document: ')\n",
    "words = []\n",
    "for word in doc_sample.split(' '):\n",
    "    words.append(word)\n",
    "print(words)\n",
    "print('\\n\\n tokenized and lemmatized document: ')\n",
    "print(preprocess(doc_sample))"
   ]
  },
  {
   "cell_type": "markdown",
   "metadata": {},
   "source": [
    "We now apply the preprocessing to all the headlines and print the first 10 results"
   ]
  },
  {
   "cell_type": "code",
   "execution_count": 6,
   "metadata": {},
   "outputs": [
    {
     "data": {
      "text/plain": [
       "0          [decides, community, broadcasting, licence]\n",
       "1                         [witness, aware, defamation]\n",
       "2           [call, infrastructure, protection, summit]\n",
       "3                          [staff, aust, strike, rise]\n",
       "4              [strike, affect, australian, traveller]\n",
       "5               [ambitious, olsson, win, triple, jump]\n",
       "6          [antic, delighted, record, breaking, barca]\n",
       "7    [aussie, qualifier, stosur, waste, memphis, ma...\n",
       "8             [aust, address, security, council, iraq]\n",
       "9                       [australia, locked, timetable]\n",
       "Name: headline_text, dtype: object"
      ]
     },
     "execution_count": 6,
     "metadata": {},
     "output_type": "execute_result"
    }
   ],
   "source": [
    "processed_docs = documents['headline_text'].map(preprocess)\n",
    "### print the first 10 results\n",
    "processed_docs[:10]"
   ]
  },
  {
   "cell_type": "markdown",
   "metadata": {},
   "source": [
    "## Bag of Words on the Data set\n",
    "Create a dictionary from ‘processed_docs’ containing the number of times a word appears in the training set.\n",
    "We are going to use the *Dictionary* function to derive a dictionary with counts from the headlines."
   ]
  },
  {
   "cell_type": "code",
   "execution_count": 7,
   "metadata": {},
   "outputs": [
    {
     "name": "stdout",
     "output_type": "stream",
     "text": [
      "0 broadcasting\n",
      "1 community\n",
      "2 decides\n",
      "3 licence\n",
      "4 aware\n",
      "5 defamation\n",
      "6 witness\n",
      "7 call\n",
      "8 infrastructure\n",
      "9 protection\n",
      "10 summit\n"
     ]
    }
   ],
   "source": [
    "dictionary = gensim.corpora.Dictionary(processed_docs)\n",
    "count = 0\n",
    "for k, v in dictionary.iteritems():\n",
    "    print(k, v)\n",
    "    count += 1\n",
    "    if count > 10:\n",
    "        break"
   ]
  },
  {
   "cell_type": "markdown",
   "metadata": {},
   "source": [
    "## Gensim filter_extremes\n",
    "Filter out tokens that appear in\n",
    "less than 15 documents (absolute number) or\n",
    "more than 0.5 documents (fraction of total corpus size, not absolute number).\n",
    "after the above two steps, keep only the first 100000 most frequent tokens."
   ]
  },
  {
   "cell_type": "code",
   "execution_count": 8,
   "metadata": {},
   "outputs": [],
   "source": [
    "dictionary.filter_extremes(no_below=15, no_above=0.5, keep_n=100000)"
   ]
  },
  {
   "cell_type": "markdown",
   "metadata": {},
   "source": [
    "## Gensim doc2bow\n",
    "For each document we create a dictionary reporting how many words and how many times those words appear. \n",
    "Gensim provides the *doc2bow* function to create a BoW vector representation for a document.\n",
    "Save this to ‘bow_corpus’, then check our selected document earlier."
   ]
  },
  {
   "cell_type": "code",
   "execution_count": 9,
   "metadata": {},
   "outputs": [
    {
     "data": {
      "text/plain": [
       "[(164, 1), (241, 1), (615, 1), (891, 1), (4161, 1), (4162, 1), (4163, 1)]"
      ]
     },
     "execution_count": 9,
     "metadata": {},
     "output_type": "execute_result"
    }
   ],
   "source": [
    "bow_corpus = [dictionary.doc2bow(doc) for doc in processed_docs]\n",
    "bow_corpus[4310]"
   ]
  },
  {
   "cell_type": "markdown",
   "metadata": {},
   "source": [
    "Preview Bag Of Words for our sample preprocessed document."
   ]
  },
  {
   "cell_type": "code",
   "execution_count": 10,
   "metadata": {},
   "outputs": [
    {
     "name": "stdout",
     "output_type": "stream",
     "text": [
      "Word 164 (\"govt\") appears 1 time.\n",
      "Word 241 (\"group\") appears 1 time.\n",
      "Word 615 (\"local\") appears 1 time.\n",
      "Word 891 (\"want\") appears 1 time.\n",
      "Word 4161 (\"compulsory\") appears 1 time.\n",
      "Word 4162 (\"ratepayer\") appears 1 time.\n",
      "Word 4163 (\"voting\") appears 1 time.\n"
     ]
    }
   ],
   "source": [
    "bow_doc_4310 = bow_corpus[4310]\n",
    "for i in range(len(bow_doc_4310)):\n",
    "    print(\"Word {} (\\\"{}\\\") appears {} time.\".format(bow_doc_4310[i][0], \n",
    "                                               dictionary[bow_doc_4310[i][0]], \n",
    "bow_doc_4310[i][1]))"
   ]
  },
  {
   "cell_type": "markdown",
   "metadata": {},
   "source": [
    "## TF-IDF\n",
    "Create tf-idf model object using models.TfidfModel on ‘bow_corpus’ and save it to ‘tfidf’, then apply transformation to the entire corpus and call it ‘corpus_tfidf’. Finally we preview TF-IDF scores for our first document.\n"
   ]
  },
  {
   "cell_type": "code",
   "execution_count": 11,
   "metadata": {},
   "outputs": [
    {
     "name": "stdout",
     "output_type": "stream",
     "text": [
      "[(0, 0.6152999901345029),\n",
      " (1, 0.3328037088259979),\n",
      " (2, 0.5684441376989424),\n",
      " (3, 0.43303449729536203)]\n"
     ]
    }
   ],
   "source": [
    "from gensim import corpora, models\n",
    "tfidf = models.TfidfModel(bow_corpus)\n",
    "corpus_tfidf = tfidf[bow_corpus]\n",
    "from pprint import pprint\n",
    "for doc in corpus_tfidf:\n",
    "    pprint(doc)\n",
    "    break"
   ]
  },
  {
   "cell_type": "markdown",
   "metadata": {},
   "source": [
    "## Running LDA using Bag of Words\n",
    "Train our lda model using gensim.models.LdaMulticore and save it to ‘lda_model’. This takes a while.\n",
    "Look at the documentation of *gensim* for further details:\n",
    "\n",
    "https://radimrehurek.com/gensim/models/ldamulticore.html\n",
    "\n",
    "As parameters, we pass the corpus data as BoW (a list of lists of tuples), the prefixed number of topics, the actual words and the number of passes and workers used for modeling."
   ]
  },
  {
   "cell_type": "code",
   "execution_count": 12,
   "metadata": {},
   "outputs": [],
   "source": [
    "lda_model = gensim.models.LdaMulticore(bow_corpus, num_topics=10, id2word=dictionary, passes=2, workers=2)"
   ]
  },
  {
   "cell_type": "markdown",
   "metadata": {},
   "source": [
    "For each topic, we will explore the words occuring in that topic and its relative weight."
   ]
  },
  {
   "cell_type": "code",
   "execution_count": 13,
   "metadata": {},
   "outputs": [
    {
     "name": "stdout",
     "output_type": "stream",
     "text": [
      "Topic: 0 \n",
      "Words: 0.018*\"open\" + 0.015*\"tasmanian\" + 0.015*\"case\" + 0.013*\"health\" + 0.011*\"liberal\" + 0.011*\"john\" + 0.010*\"farm\" + 0.010*\"turnbull\" + 0.010*\"say\" + 0.010*\"white\"\n",
      "Topic: 1 \n",
      "Words: 0.047*\"trump\" + 0.024*\"market\" + 0.024*\"home\" + 0.018*\"sydney\" + 0.016*\"island\" + 0.015*\"time\" + 0.012*\"rise\" + 0.011*\"year\" + 0.011*\"rate\" + 0.011*\"bank\"\n",
      "Topic: 2 \n",
      "Words: 0.027*\"world\" + 0.017*\"australian\" + 0.016*\"tasmania\" + 0.015*\"farmer\" + 0.014*\"final\" + 0.013*\"australia\" + 0.013*\"record\" + 0.013*\"high\" + 0.012*\"price\" + 0.010*\"drought\"\n",
      "Topic: 3 \n",
      "Words: 0.022*\"crash\" + 0.022*\"adelaide\" + 0.016*\"dy\" + 0.016*\"people\" + 0.016*\"royal\" + 0.015*\"dead\" + 0.014*\"family\" + 0.013*\"life\" + 0.013*\"house\" + 0.013*\"commission\"\n",
      "Topic: 4 \n",
      "Words: 0.018*\"test\" + 0.013*\"plan\" + 0.012*\"australia\" + 0.012*\"work\" + 0.011*\"park\" + 0.010*\"cricket\" + 0.010*\"weather\" + 0.010*\"future\" + 0.009*\"port\" + 0.009*\"season\"\n",
      "Topic: 5 \n",
      "Words: 0.028*\"australian\" + 0.026*\"election\" + 0.019*\"china\" + 0.019*\"donald\" + 0.019*\"south\" + 0.018*\"news\" + 0.017*\"australia\" + 0.016*\"north\" + 0.015*\"coast\" + 0.013*\"say\"\n",
      "Topic: 6 \n",
      "Words: 0.021*\"water\" + 0.019*\"help\" + 0.016*\"victoria\" + 0.015*\"missing\" + 0.013*\"melbourne\" + 0.013*\"scott\" + 0.011*\"michael\" + 0.011*\"storm\" + 0.011*\"beat\" + 0.011*\"search\"\n",
      "Topic: 7 \n",
      "Words: 0.018*\"government\" + 0.015*\"change\" + 0.014*\"federal\" + 0.013*\"rural\" + 0.013*\"country\" + 0.013*\"indigenous\" + 0.012*\"school\" + 0.011*\"community\" + 0.010*\"story\" + 0.010*\"climate\"\n",
      "Topic: 8 \n",
      "Words: 0.015*\"business\" + 0.014*\"interview\" + 0.014*\"live\" + 0.014*\"street\" + 0.014*\"guilty\" + 0.014*\"perth\" + 0.013*\"drum\" + 0.011*\"baby\" + 0.011*\"hobart\" + 0.011*\"wall\"\n",
      "Topic: 9 \n",
      "Words: 0.049*\"police\" + 0.026*\"court\" + 0.024*\"woman\" + 0.024*\"queensland\" + 0.020*\"murder\" + 0.018*\"death\" + 0.016*\"charged\" + 0.015*\"child\" + 0.013*\"face\" + 0.013*\"trial\"\n"
     ]
    }
   ],
   "source": [
    "for idx, topic in lda_model.print_topics(-1):\n",
    "    print('Topic: {} \\nWords: {}'.format(idx, topic))"
   ]
  },
  {
   "cell_type": "markdown",
   "metadata": {},
   "source": [
    "Can you distinguish different topics using the words in each topic and their corresponding weights?"
   ]
  },
  {
   "cell_type": "markdown",
   "metadata": {},
   "source": [
    "## Running LDA using TF-IDF"
   ]
  },
  {
   "cell_type": "code",
   "execution_count": 14,
   "metadata": {},
   "outputs": [
    {
     "name": "stdout",
     "output_type": "stream",
     "text": [
      "Topic: 0 Word: 0.023*\"country\" + 0.018*\"hour\" + 0.009*\"david\" + 0.008*\"sport\" + 0.008*\"peter\" + 0.007*\"november\" + 0.006*\"final\" + 0.006*\"ash\" + 0.006*\"open\" + 0.006*\"quiz\"\n",
      "Topic: 1 Word: 0.013*\"australia\" + 0.010*\"world\" + 0.006*\"cricket\" + 0.006*\"rugby\" + 0.006*\"league\" + 0.006*\"august\" + 0.006*\"finance\" + 0.005*\"christmas\" + 0.005*\"zealand\" + 0.005*\"test\"\n",
      "Topic: 2 Word: 0.010*\"monday\" + 0.006*\"june\" + 0.006*\"tasmania\" + 0.005*\"white\" + 0.005*\"facebook\" + 0.005*\"energy\" + 0.005*\"reveals\" + 0.005*\"waste\" + 0.004*\"prime\" + 0.004*\"female\"\n",
      "Topic: 3 Word: 0.023*\"news\" + 0.020*\"rural\" + 0.009*\"national\" + 0.008*\"hill\" + 0.008*\"grandstand\" + 0.008*\"market\" + 0.007*\"share\" + 0.007*\"business\" + 0.006*\"australian\" + 0.006*\"story\"\n",
      "Topic: 4 Word: 0.010*\"drum\" + 0.009*\"government\" + 0.008*\"election\" + 0.007*\"health\" + 0.007*\"federal\" + 0.006*\"say\" + 0.006*\"labor\" + 0.005*\"liberal\" + 0.005*\"farm\" + 0.005*\"korea\"\n",
      "Topic: 5 Word: 0.015*\"interview\" + 0.012*\"donald\" + 0.012*\"live\" + 0.010*\"weather\" + 0.009*\"friday\" + 0.009*\"wednesday\" + 0.008*\"turnbull\" + 0.006*\"extended\" + 0.005*\"malcolm\" + 0.005*\"storm\"\n",
      "Topic: 6 Word: 0.023*\"trump\" + 0.009*\"price\" + 0.008*\"queensland\" + 0.006*\"dollar\" + 0.006*\"andrew\" + 0.006*\"rate\" + 0.005*\"rise\" + 0.005*\"domestic\" + 0.005*\"social\" + 0.004*\"violence\"\n",
      "Topic: 7 Word: 0.014*\"murder\" + 0.014*\"court\" + 0.010*\"charged\" + 0.009*\"tuesday\" + 0.008*\"accused\" + 0.008*\"charge\" + 0.007*\"death\" + 0.007*\"trial\" + 0.006*\"street\" + 0.006*\"october\"\n",
      "Topic: 8 Word: 0.009*\"thursday\" + 0.008*\"michael\" + 0.008*\"scott\" + 0.007*\"guilty\" + 0.007*\"care\" + 0.007*\"assault\" + 0.007*\"royal\" + 0.007*\"commission\" + 0.007*\"july\" + 0.006*\"dairy\"\n",
      "Topic: 9 Word: 0.017*\"police\" + 0.015*\"crash\" + 0.010*\"dead\" + 0.009*\"missing\" + 0.009*\"killed\" + 0.009*\"woman\" + 0.008*\"shooting\" + 0.007*\"dy\" + 0.007*\"attack\" + 0.007*\"search\"\n"
     ]
    }
   ],
   "source": [
    "lda_model_tfidf = gensim.models.LdaMulticore(corpus_tfidf, num_topics=10, id2word=dictionary, passes=2, workers=4)\n",
    "for idx, topic in lda_model_tfidf.print_topics(-1):\n",
    "    print('Topic: {} Word: {}'.format(idx, topic))"
   ]
  },
  {
   "cell_type": "markdown",
   "metadata": {},
   "source": [
    "Again, can you distinguish different topics using the words in each topic and their corresponding weights? Do you observe any differences with the BoW version? Do these differences make sense given the information value weighing by the *tfidf* method?"
   ]
  },
  {
   "cell_type": "markdown",
   "metadata": {},
   "source": [
    "## Performance evaluation by classifying sample document using LDA Bag of Words model\n",
    "We will check where our test document would be classified."
   ]
  },
  {
   "cell_type": "code",
   "execution_count": 15,
   "metadata": {},
   "outputs": [
    {
     "data": {
      "text/plain": [
       "['ratepayer', 'group', 'want', 'compulsory', 'local', 'govt', 'voting']"
      ]
     },
     "execution_count": 15,
     "metadata": {},
     "output_type": "execute_result"
    }
   ],
   "source": [
    "processed_docs[4310]"
   ]
  },
  {
   "cell_type": "markdown",
   "metadata": {},
   "source": [
    "Document 4310 is already represented in the correct way. We can directly pass it to our *lda_model* to get the similarity scores for each topic. We represent each topic by printing "
   ]
  },
  {
   "cell_type": "code",
   "execution_count": 16,
   "metadata": {},
   "outputs": [
    {
     "name": "stdout",
     "output_type": "stream",
     "text": [
      "\n",
      "Score: 0.3785519599914551\t \n",
      "Topic: 0.018*\"government\" + 0.015*\"change\" + 0.014*\"federal\" + 0.013*\"rural\" + 0.013*\"country\" + 0.013*\"indigenous\" + 0.012*\"school\" + 0.011*\"community\" + 0.010*\"story\" + 0.010*\"climate\"\n",
      "\n",
      "Score: 0.1469927430152893\t \n",
      "Topic: 0.018*\"open\" + 0.015*\"tasmanian\" + 0.015*\"case\" + 0.013*\"health\" + 0.011*\"liberal\" + 0.011*\"john\" + 0.010*\"farm\" + 0.010*\"turnbull\" + 0.010*\"say\" + 0.010*\"white\"\n",
      "\n",
      "Score: 0.13765516877174377\t \n",
      "Topic: 0.022*\"crash\" + 0.022*\"adelaide\" + 0.016*\"dy\" + 0.016*\"people\" + 0.016*\"royal\" + 0.015*\"dead\" + 0.014*\"family\" + 0.013*\"life\" + 0.013*\"house\" + 0.013*\"commission\"\n",
      "\n",
      "Score: 0.13723494112491608\t \n",
      "Topic: 0.015*\"business\" + 0.014*\"interview\" + 0.014*\"live\" + 0.014*\"street\" + 0.014*\"guilty\" + 0.014*\"perth\" + 0.013*\"drum\" + 0.011*\"baby\" + 0.011*\"hobart\" + 0.011*\"wall\"\n",
      "\n",
      "Score: 0.13698320090770721\t \n",
      "Topic: 0.049*\"police\" + 0.026*\"court\" + 0.024*\"woman\" + 0.024*\"queensland\" + 0.020*\"murder\" + 0.018*\"death\" + 0.016*\"charged\" + 0.015*\"child\" + 0.013*\"face\" + 0.013*\"trial\"\n",
      "\n",
      "Score: 0.01251706201583147\t \n",
      "Topic: 0.018*\"test\" + 0.013*\"plan\" + 0.012*\"australia\" + 0.012*\"work\" + 0.011*\"park\" + 0.010*\"cricket\" + 0.010*\"weather\" + 0.010*\"future\" + 0.009*\"port\" + 0.009*\"season\"\n",
      "\n",
      "Score: 0.012516234070062637\t \n",
      "Topic: 0.047*\"trump\" + 0.024*\"market\" + 0.024*\"home\" + 0.018*\"sydney\" + 0.016*\"island\" + 0.015*\"time\" + 0.012*\"rise\" + 0.011*\"year\" + 0.011*\"rate\" + 0.011*\"bank\"\n",
      "\n",
      "Score: 0.012516234070062637\t \n",
      "Topic: 0.027*\"world\" + 0.017*\"australian\" + 0.016*\"tasmania\" + 0.015*\"farmer\" + 0.014*\"final\" + 0.013*\"australia\" + 0.013*\"record\" + 0.013*\"high\" + 0.012*\"price\" + 0.010*\"drought\"\n",
      "\n",
      "Score: 0.012516234070062637\t \n",
      "Topic: 0.028*\"australian\" + 0.026*\"election\" + 0.019*\"china\" + 0.019*\"donald\" + 0.019*\"south\" + 0.018*\"news\" + 0.017*\"australia\" + 0.016*\"north\" + 0.015*\"coast\" + 0.013*\"say\"\n",
      "\n",
      "Score: 0.012516234070062637\t \n",
      "Topic: 0.021*\"water\" + 0.019*\"help\" + 0.016*\"victoria\" + 0.015*\"missing\" + 0.013*\"melbourne\" + 0.013*\"scott\" + 0.011*\"michael\" + 0.011*\"storm\" + 0.011*\"beat\" + 0.011*\"search\"\n"
     ]
    }
   ],
   "source": [
    "for index, score in sorted(lda_model[bow_corpus[4310]], key=lambda tup: -1*tup[1]):\n",
    "    print(\"\\nScore: {}\\t \\nTopic: {}\".format(score, lda_model.print_topic(index, 10)))"
   ]
  },
  {
   "cell_type": "markdown",
   "metadata": {},
   "source": [
    "Our test document has the highest probability to be part of the topic that our model assigned, which is the accurate classification."
   ]
  },
  {
   "cell_type": "markdown",
   "metadata": {},
   "source": [
    "### Analyzing our LDA model\n",
    "\n",
    "Now that we have a trained model let’s visualize the topics for interpretability. \n",
    "To do so, we’ll use a popular visualization package, *pyLDAvis* which is designed to help interactively with:\n",
    "\n",
    "1. Better understanding and interpreting individual topics, and\n",
    "2. Better understanding the relationships between the topics.\n",
    "\n",
    "For (1), you can manually select each topic to view its top most frequent and/or “relevant” terms, using different values of the λ parameter. This can help when you’re trying to assign a human interpretable name or “meaning” to each topic.\n",
    "For (2), exploring the Intertopic Distance Plot can help you learn about how topics relate to each other, including potential higher-level structure between groups of topics.\n",
    "\n",
    "You need to install *pyldavis* through the command line, following the instructions:\n",
    "\n",
    "https://anaconda.org/conda-forge/pyldavis\n",
    "\n",
    "WARNING: running the next cell takes a long time and you need some memory to run it. However, the result is spectacular."
   ]
  },
  {
   "cell_type": "code",
   "execution_count": 68,
   "metadata": {
    "jupyter": {
     "source_hidden": true
    }
   },
   "outputs": [
    {
     "name": "stderr",
     "output_type": "stream",
     "text": [
      "/Users/piek/opt/anaconda3/lib/python3.7/site-packages/pyLDAvis/_prepare.py:257: FutureWarning: Sorting because non-concatenation axis is not aligned. A future version\n",
      "of pandas will change to not sort by default.\n",
      "\n",
      "To accept the future behavior, pass 'sort=False'.\n",
      "\n",
      "To retain the current behavior and silence the warning, pass 'sort=True'.\n",
      "\n",
      "  return pd.concat([default_term_info] + list(topic_dfs))\n"
     ]
    },
    {
     "data": {
      "text/html": [
       "\n",
       "<link rel=\"stylesheet\" type=\"text/css\" href=\"https://cdn.rawgit.com/bmabey/pyLDAvis/files/ldavis.v1.0.0.css\">\n",
       "\n",
       "\n",
       "<div id=\"ldavis_el7743770804059685813159843\"></div>\n",
       "<script type=\"text/javascript\">\n",
       "\n",
       "var ldavis_el7743770804059685813159843_data = {\"mdsDat\": {\"x\": [0.20955475494580872, -0.1832174069122694, -0.1808459489460759, 0.12410302470763926, 0.1707719275640434, -0.06460961360681686, -0.16507258570983727, -0.21102099949536296, 0.20179032026111637, 0.0985465271917547], \"y\": [-0.12469497103884021, -0.10327745660556448, -0.01793121394325296, 0.024867003889024984, 0.0993368679014882, 0.14515890693291383, 0.04735728407175596, -0.11407375686685263, -0.2636805299871382, 0.30693786564646564], \"topics\": [1, 2, 3, 4, 5, 6, 7, 8, 9, 10], \"cluster\": [1, 1, 1, 1, 1, 1, 1, 1, 1, 1], \"Freq\": [12.957755088806152, 11.083999633789062, 10.822266578674316, 10.21993637084961, 9.980520248413086, 9.312028884887695, 9.264372825622559, 8.914336204528809, 8.72795581817627, 8.716836929321289]}, \"tinfo\": {\"Category\": [\"Default\", \"Default\", \"Default\", \"Default\", \"Default\", \"Default\", \"Default\", \"Default\", \"Default\", \"Default\", \"Default\", \"Default\", \"Default\", \"Default\", \"Default\", \"Default\", \"Default\", \"Default\", \"Default\", \"Default\", \"Default\", \"Default\", \"Default\", \"Default\", \"Default\", \"Default\", \"Default\", \"Default\", \"Default\", \"Default\", \"Topic1\", \"Topic1\", \"Topic1\", \"Topic1\", \"Topic1\", \"Topic1\", \"Topic1\", \"Topic1\", \"Topic1\", \"Topic1\", \"Topic1\", \"Topic1\", \"Topic1\", \"Topic1\", \"Topic1\", \"Topic1\", \"Topic1\", \"Topic1\", \"Topic1\", \"Topic1\", \"Topic1\", \"Topic1\", \"Topic1\", \"Topic1\", \"Topic1\", \"Topic1\", \"Topic1\", \"Topic1\", \"Topic1\", \"Topic1\", \"Topic1\", \"Topic1\", \"Topic1\", \"Topic1\", \"Topic1\", \"Topic1\", \"Topic1\", \"Topic1\", \"Topic1\", \"Topic1\", \"Topic2\", \"Topic2\", \"Topic2\", \"Topic2\", \"Topic2\", \"Topic2\", \"Topic2\", \"Topic2\", \"Topic2\", \"Topic2\", \"Topic2\", \"Topic2\", \"Topic2\", \"Topic2\", \"Topic2\", \"Topic2\", \"Topic2\", \"Topic2\", \"Topic2\", \"Topic2\", \"Topic2\", \"Topic2\", \"Topic2\", \"Topic2\", \"Topic2\", \"Topic2\", \"Topic2\", \"Topic2\", \"Topic2\", \"Topic2\", \"Topic2\", \"Topic2\", \"Topic2\", \"Topic2\", \"Topic2\", \"Topic2\", \"Topic2\", \"Topic2\", \"Topic2\", \"Topic2\", \"Topic3\", \"Topic3\", \"Topic3\", \"Topic3\", \"Topic3\", \"Topic3\", \"Topic3\", \"Topic3\", \"Topic3\", \"Topic3\", \"Topic3\", \"Topic3\", \"Topic3\", \"Topic3\", \"Topic3\", \"Topic3\", \"Topic3\", \"Topic3\", \"Topic3\", \"Topic3\", \"Topic3\", \"Topic3\", \"Topic3\", \"Topic3\", \"Topic3\", \"Topic3\", \"Topic3\", \"Topic3\", \"Topic3\", \"Topic3\", \"Topic3\", \"Topic3\", \"Topic3\", \"Topic3\", \"Topic3\", \"Topic3\", \"Topic3\", \"Topic3\", \"Topic3\", \"Topic3\", \"Topic3\", \"Topic4\", \"Topic4\", \"Topic4\", \"Topic4\", \"Topic4\", \"Topic4\", \"Topic4\", \"Topic4\", \"Topic4\", \"Topic4\", \"Topic4\", \"Topic4\", \"Topic4\", \"Topic4\", \"Topic4\", \"Topic4\", \"Topic4\", \"Topic4\", \"Topic4\", \"Topic4\", \"Topic4\", \"Topic4\", \"Topic4\", \"Topic4\", \"Topic4\", \"Topic4\", \"Topic4\", \"Topic4\", \"Topic4\", \"Topic4\", \"Topic4\", \"Topic4\", \"Topic4\", \"Topic4\", \"Topic4\", \"Topic4\", \"Topic4\", \"Topic4\", \"Topic5\", \"Topic5\", \"Topic5\", \"Topic5\", \"Topic5\", \"Topic5\", \"Topic5\", \"Topic5\", \"Topic5\", \"Topic5\", \"Topic5\", \"Topic5\", \"Topic5\", \"Topic5\", \"Topic5\", \"Topic5\", \"Topic5\", \"Topic5\", \"Topic5\", \"Topic5\", \"Topic5\", \"Topic5\", \"Topic5\", \"Topic5\", \"Topic5\", \"Topic5\", \"Topic5\", \"Topic5\", \"Topic5\", \"Topic5\", \"Topic5\", \"Topic5\", \"Topic5\", \"Topic5\", \"Topic5\", \"Topic5\", \"Topic5\", \"Topic5\", \"Topic5\", \"Topic6\", \"Topic6\", \"Topic6\", \"Topic6\", \"Topic6\", \"Topic6\", \"Topic6\", \"Topic6\", \"Topic6\", \"Topic6\", \"Topic6\", \"Topic6\", \"Topic6\", \"Topic6\", \"Topic6\", \"Topic6\", \"Topic6\", \"Topic6\", \"Topic6\", \"Topic6\", \"Topic6\", \"Topic6\", \"Topic6\", \"Topic6\", \"Topic6\", \"Topic6\", \"Topic6\", \"Topic6\", \"Topic6\", \"Topic6\", \"Topic6\", \"Topic6\", \"Topic6\", \"Topic6\", \"Topic6\", \"Topic6\", \"Topic6\", \"Topic7\", \"Topic7\", \"Topic7\", \"Topic7\", \"Topic7\", \"Topic7\", \"Topic7\", \"Topic7\", \"Topic7\", \"Topic7\", \"Topic7\", \"Topic7\", \"Topic7\", \"Topic7\", \"Topic7\", \"Topic7\", \"Topic7\", \"Topic7\", \"Topic7\", \"Topic7\", \"Topic7\", \"Topic7\", \"Topic7\", \"Topic7\", \"Topic7\", \"Topic7\", \"Topic7\", \"Topic7\", \"Topic7\", \"Topic7\", \"Topic7\", \"Topic7\", \"Topic7\", \"Topic7\", \"Topic7\", \"Topic7\", \"Topic7\", \"Topic7\", \"Topic8\", \"Topic8\", \"Topic8\", \"Topic8\", \"Topic8\", \"Topic8\", \"Topic8\", \"Topic8\", \"Topic8\", \"Topic8\", \"Topic8\", \"Topic8\", \"Topic8\", \"Topic8\", \"Topic8\", \"Topic8\", \"Topic8\", \"Topic8\", \"Topic8\", \"Topic8\", \"Topic8\", \"Topic8\", \"Topic8\", \"Topic8\", \"Topic8\", \"Topic8\", \"Topic8\", \"Topic8\", \"Topic8\", \"Topic8\", \"Topic8\", \"Topic8\", \"Topic8\", \"Topic8\", \"Topic8\", \"Topic8\", \"Topic8\", \"Topic9\", \"Topic9\", \"Topic9\", \"Topic9\", \"Topic9\", \"Topic9\", \"Topic9\", \"Topic9\", \"Topic9\", \"Topic9\", \"Topic9\", \"Topic9\", \"Topic9\", \"Topic9\", \"Topic9\", \"Topic9\", \"Topic9\", \"Topic9\", \"Topic9\", \"Topic9\", \"Topic9\", \"Topic9\", \"Topic9\", \"Topic9\", \"Topic9\", \"Topic9\", \"Topic9\", \"Topic9\", \"Topic9\", \"Topic9\", \"Topic9\", \"Topic9\", \"Topic9\", \"Topic9\", \"Topic9\", \"Topic9\", \"Topic10\", \"Topic10\", \"Topic10\", \"Topic10\", \"Topic10\", \"Topic10\", \"Topic10\", \"Topic10\", \"Topic10\", \"Topic10\", \"Topic10\", \"Topic10\", \"Topic10\", \"Topic10\", \"Topic10\", \"Topic10\", \"Topic10\", \"Topic10\", \"Topic10\", \"Topic10\", \"Topic10\", \"Topic10\", \"Topic10\", \"Topic10\", \"Topic10\", \"Topic10\", \"Topic10\", \"Topic10\", \"Topic10\", \"Topic10\", \"Topic10\", \"Topic10\", \"Topic10\", \"Topic10\"], \"Freq\": [29915.0, 21792.0, 20663.0, 13757.0, 13725.0, 12379.0, 12050.0, 16767.0, 12242.0, 12110.0, 14683.0, 10080.0, 13432.0, 10030.0, 9780.0, 8903.0, 11599.0, 9033.0, 11227.0, 8549.0, 11136.0, 8703.0, 29335.0, 9599.0, 11778.0, 9295.0, 8347.0, 8202.0, 11111.0, 8024.0, 9598.6357421875, 9294.333984375, 8280.2294921875, 8168.42919921875, 7655.1337890625, 7299.0322265625, 7262.28515625, 6444.984375, 6251.3115234375, 5400.99462890625, 5050.4541015625, 4670.46533203125, 4448.64306640625, 4230.06884765625, 4093.916259765625, 3962.85595703125, 3950.246337890625, 3930.91650390625, 3677.941650390625, 3653.097412109375, 3623.294921875, 3511.489990234375, 3484.690673828125, 3436.822021484375, 3331.702392578125, 3155.638427734375, 3101.70068359375, 3083.34326171875, 3068.2373046875, 3032.326416015625, 9614.546875, 5665.4521484375, 4258.04541015625, 5909.4365234375, 5167.43310546875, 6120.6044921875, 5944.509765625, 3713.47900390625, 3849.427978515625, 3638.66796875, 29914.4765625, 12109.8447265625, 8346.7802734375, 7503.1357421875, 7069.84130859375, 6459.90380859375, 6279.70166015625, 5516.12744140625, 5157.10546875, 5007.8720703125, 4817.83349609375, 4705.00732421875, 4622.1474609375, 4547.109375, 4500.50537109375, 4368.35693359375, 4342.740234375, 3922.072509765625, 3694.249755859375, 3466.76025390625, 3458.40283203125, 3401.737548828125, 3321.164306640625, 3121.2763671875, 3098.60009765625, 3088.36572265625, 3078.10888671875, 3067.946044921875, 3036.793212890625, 3011.427001953125, 9762.203125, 5532.4091796875, 7279.36767578125, 4910.38037109375, 5719.77783203125, 4247.96142578125, 4268.181640625, 3813.978271484375, 3699.486083984375, 3489.098388671875, 20662.2734375, 8023.607421875, 6957.802734375, 6125.0478515625, 5699.96630859375, 5314.498046875, 4918.25048828125, 4739.50537109375, 4631.32568359375, 4109.82958984375, 3920.71337890625, 3299.573486328125, 3272.57080078125, 3169.369384765625, 3149.1005859375, 3150.584228515625, 3059.029296875, 3049.9013671875, 3043.645263671875, 3022.577880859375, 2902.06494140625, 2870.823974609375, 2834.616943359375, 2739.246337890625, 2658.485107421875, 2619.069580078125, 2577.31201171875, 2551.656982421875, 2531.94970703125, 2984.105712890625, 2996.4677734375, 11269.56640625, 8195.248046875, 5462.11474609375, 4334.47509765625, 5002.51220703125, 3784.46728515625, 5360.875, 3738.54638671875, 3380.847412109375, 3206.026611328125, 12241.7470703125, 7354.26904296875, 6182.67724609375, 5893.8916015625, 5884.44287109375, 5837.9306640625, 5763.30615234375, 5500.86865234375, 4922.84326171875, 4617.5673828125, 4109.974609375, 3987.703369140625, 3822.464111328125, 3598.552978515625, 3517.33154296875, 3406.833740234375, 3315.8583984375, 3223.59716796875, 3174.64599609375, 3118.876708984375, 2754.47802734375, 2743.075927734375, 2648.859130859375, 2634.284912109375, 2581.015625, 2535.6513671875, 2536.152587890625, 2471.24951171875, 2439.0732421875, 2382.96923828125, 8122.521484375, 9430.744140625, 4789.814453125, 3353.74609375, 3758.0908203125, 4491.5498046875, 2765.943115234375, 2940.114990234375, 9033.107421875, 8702.3818359375, 5205.60205078125, 4924.72998046875, 4886.708984375, 4744.65966796875, 4095.618408203125, 3954.427978515625, 3815.1162109375, 3750.3466796875, 3718.551025390625, 3638.2021484375, 3365.7451171875, 3255.038818359375, 3220.557861328125, 3185.879638671875, 3023.908203125, 2904.45703125, 2833.751220703125, 2803.961181640625, 2759.677490234375, 2741.664306640625, 2737.546630859375, 2722.994873046875, 2578.42041015625, 2540.731201171875, 2525.36083984375, 2501.171630859375, 2489.569580078125, 2993.19482421875, 3445.484375, 5100.16650390625, 3881.39697265625, 11583.609375, 3442.807861328125, 3265.518798828125, 3839.552978515625, 2886.668212890625, 2954.66064453125, 13756.3896484375, 10029.576171875, 9779.3603515625, 4350.60400390625, 4253.00830078125, 4191.9072265625, 4075.587890625, 3609.414794921875, 3610.39404296875, 3625.062255859375, 3576.657470703125, 3502.481689453125, 3441.4013671875, 3371.581787109375, 2975.055908203125, 2692.49267578125, 2702.839111328125, 2646.663330078125, 2635.183349609375, 2477.18798828125, 2444.379150390625, 2437.554443359375, 2419.16796875, 2394.111572265625, 2307.212158203125, 2248.45556640625, 2198.671630859375, 2140.342041015625, 2113.8779296875, 2049.437255859375, 3820.993896484375, 8704.0048828125, 5408.005859375, 5563.05712890625, 7058.0419921875, 2431.00048828125, 2717.812744140625, 21791.8046875, 13724.736328125, 8902.599609375, 7324.0537109375, 6601.646484375, 5770.40185546875, 5099.29443359375, 4675.9638671875, 4425.66357421875, 4398.49462890625, 4259.58056640625, 5459.359375, 4113.60302734375, 3754.0595703125, 3569.939697265625, 3409.840576171875, 3359.00341796875, 3323.19580078125, 3125.481689453125, 3116.7333984375, 3034.4736328125, 2891.01904296875, 2702.94677734375, 2618.157470703125, 2611.4736328125, 2420.358642578125, 2417.031005859375, 2265.13330078125, 2243.857666015625, 2127.58203125, 10582.8623046875, 4651.80810546875, 5114.3115234375, 4885.28857421875, 5791.74560546875, 4644.494140625, 3130.37451171875, 3212.550048828125, 12379.0078125, 12049.6103515625, 10080.1162109375, 8548.6845703125, 6601.1640625, 5694.935546875, 5630.10595703125, 5520.69580078125, 4651.515625, 4215.7470703125, 3410.460693359375, 3299.55517578125, 3053.1484375, 2747.8388671875, 2702.215087890625, 2661.0029296875, 2624.947509765625, 2557.682861328125, 2242.517333984375, 2201.9677734375, 2169.10693359375, 2130.745849609375, 2087.860107421875, 1985.541259765625, 1930.95654296875, 1916.742919921875, 1874.3060302734375, 1864.66015625, 1857.7139892578125, 1841.2235107421875, 4744.6171875, 3136.60888671875, 6057.92919921875, 4402.072265625, 4099.85400390625, 2170.892578125, 2162.445068359375, 6676.04638671875, 6220.15869140625, 5981.501953125, 5986.87255859375, 4896.85693359375, 4803.087890625, 4539.82666015625, 4390.86279296875, 4249.4072265625, 3859.7451171875, 3849.703857421875, 3829.86328125, 3780.3544921875, 3489.23681640625, 3459.6669921875, 3439.68359375, 2678.548583984375, 2521.792236328125, 2512.98291015625, 2424.134521484375, 2208.194091796875, 2191.81640625, 2129.85791015625, 2128.580322265625, 2086.715087890625, 2067.89111328125, 2028.9058837890625, 1992.8192138671875, 1979.01220703125, 1965.54443359375, 4348.123046875, 10645.8193359375, 4548.06103515625, 3312.228515625, 2556.7470703125, 3095.12158203125, 6730.55419921875, 6656.4375, 6466.64404296875, 4977.06494140625, 4536.6083984375, 3665.321044921875, 3283.509521484375, 3182.401123046875, 3088.954833984375, 3040.554443359375, 3018.4833984375, 2969.318115234375, 2961.840087890625, 2939.983154296875, 2892.30517578125, 2748.76708984375, 2661.122314453125, 2657.009521484375, 2652.39404296875, 2633.789794921875, 2627.9921875, 2617.86865234375, 2493.713623046875, 2379.46728515625, 2334.56884765625, 2316.34033203125, 2304.902587890625, 2117.906982421875, 2087.9892578125, 2082.423095703125, 4108.69873046875, 2554.274658203125, 4084.40478515625, 3342.171142578125], \"Term\": [\"police\", \"australian\", \"trump\", \"queensland\", \"government\", \"melbourne\", \"donald\", \"election\", \"news\", \"death\", \"court\", \"charged\", \"world\", \"north\", \"canberra\", \"years\", \"china\", \"calls\", \"south\", \"tasmania\", \"woman\", \"federal\", \"says\", \"royal\", \"murder\", \"national\", \"family\", \"rural\", \"health\", \"dies\", \"royal\", \"national\", \"change\", \"council\", \"commission\", \"climate\", \"plan\", \"budget\", \"morrison\", \"park\", \"farm\", \"mental\", \"wednesday\", \"beach\", \"james\", \"group\", \"debate\", \"murray\", \"ashes\", \"wants\", \"money\", \"plans\", \"super\", \"legal\", \"waste\", \"save\", \"rail\", \"making\", \"local\", \"issues\", \"health\", \"power\", \"future\", \"labor\", \"indigenous\", \"election\", \"says\", \"residents\", \"water\", \"review\", \"police\", \"death\", \"family\", \"women\", \"life\", \"missing\", \"gold\", \"shooting\", \"john\", \"road\", \"work\", \"violence\", \"video\", \"arrested\", \"search\", \"driver\", \"baby\", \"body\", \"hong\", \"kong\", \"inquest\", \"fatal\", \"mother\", \"investigation\", \"appeal\", \"teen\", \"return\", \"outback\", \"shot\", \"victim\", \"woman\", \"brisbane\", \"sydney\", \"house\", \"murder\", \"attack\", \"crash\", \"coast\", \"dead\", \"alleged\", \"trump\", \"dies\", \"tasmanian\", \"killed\", \"street\", \"australias\", \"wall\", \"christmas\", \"league\", \"david\", \"season\", \"india\", \"liberal\", \"game\", \"injured\", \"plane\", \"hour\", \"alan\", \"team\", \"mark\", \"grand\", \"black\", \"tour\", \"leaves\", \"england\", \"girl\", \"russian\", \"kills\", \"head\", \"womens\", \"battle\", \"world\", \"adelaide\", \"final\", \"test\", \"crash\", \"wins\", \"australia\", \"dead\", \"sydney\", \"perth\", \"news\", \"country\", \"business\", \"deal\", \"drought\", \"chinese\", \"market\", \"shows\", \"trade\", \"program\", \"friday\", \"free\", \"prices\", \"jobs\", \"crisis\", \"housing\", \"study\", \"cattle\", \"race\", \"coal\", \"share\", \"fall\", \"good\", \"close\", \"foreign\", \"reveals\", \"data\", \"prime\", \"paul\", \"newcastle\", \"rural\", \"china\", \"farmers\", \"food\", \"industry\", \"australia\", \"finds\", \"says\", \"calls\", \"federal\", \"hobart\", \"media\", \"care\", \"white\", \"prison\", \"talks\", \"energy\", \"vote\", \"brexit\", \"aged\", \"leader\", \"premier\", \"company\", \"officer\", \"chief\", \"defends\", \"like\", \"syria\", \"staff\", \"rate\", \"attacks\", \"prince\", \"online\", \"military\", \"shorten\", \"islamic\", \"france\", \"rates\", \"russia\", \"minister\", \"president\", \"says\", \"workers\", \"campaign\", \"australia\", \"rise\", \"labor\", \"queensland\", \"north\", \"canberra\", \"cricket\", \"korea\", \"weather\", \"port\", \"peter\", \"east\", \"week\", \"finance\", \"zealand\", \"thursday\", \"cyclone\", \"star\", \"fires\", \"light\", \"extended\", \"long\", \"homes\", \"johnson\", \"threat\", \"international\", \"shark\", \"politics\", \"loss\", \"steve\", \"wild\", \"dogs\", \"global\", \"emergency\", \"south\", \"state\", \"coast\", \"australia\", \"warning\", \"says\", \"australian\", \"government\", \"years\", \"people\", \"child\", \"west\", \"abuse\", \"young\", \"turnbull\", \"charges\", \"face\", \"case\", \"million\", \"hits\", \"sexual\", \"town\", \"western\", \"rugby\", \"festival\", \"faces\", \"great\", \"footage\", \"dollar\", \"george\", \"malcolm\", \"hears\", \"marriage\", \"defence\", \"falls\", \"dairy\", \"court\", \"record\", \"high\", \"accused\", \"perth\", \"water\", \"trial\", \"year\", \"melbourne\", \"donald\", \"charged\", \"tasmania\", \"open\", \"children\", \"scott\", \"speaks\", \"centre\", \"second\", \"kids\", \"told\", \"beat\", \"smith\", \"charge\", \"rape\", \"leave\", \"boss\", \"trumps\", \"gives\", \"university\", \"bail\", \"detention\", \"opens\", \"training\", \"title\", \"flight\", \"joins\", \"beats\", \"grandstand\", \"island\", \"takes\", \"murder\", \"home\", \"court\", \"adelaide\", \"world\", \"markets\", \"drum\", \"victoria\", \"bushfire\", \"michael\", \"jailed\", \"students\", \"aboriginal\", \"party\", \"stories\", \"monday\", \"inquiry\", \"tuesday\", \"bank\", \"history\", \"cancer\", \"project\", \"research\", \"kohler\", \"services\", \"doctor\", \"quiz\", \"asylum\", \"september\", \"film\", \"june\", \"hunter\", \"november\", \"iran\", \"fans\", \"funding\", \"election\", \"school\", \"community\", \"service\", \"report\", \"live\", \"guilty\", \"interview\", \"public\", \"parliament\", \"australians\", \"protest\", \"anti\", \"andrew\", \"political\", \"social\", \"facebook\", \"bushfires\", \"games\", \"pleads\", \"airport\", \"protesters\", \"briefing\", \"father\", \"territory\", \"parents\", \"protests\", \"march\", \"blog\", \"japan\", \"human\", \"lost\", \"story\", \"days\", \"check\", \"northern\", \"risk\", \"says\", \"australia\"], \"Total\": [29915.0, 21792.0, 20663.0, 13757.0, 13725.0, 12379.0, 12050.0, 16767.0, 12242.0, 12110.0, 14683.0, 10080.0, 13432.0, 10030.0, 9780.0, 8903.0, 11599.0, 9033.0, 11227.0, 8549.0, 11136.0, 8703.0, 29335.0, 9599.0, 11778.0, 9295.0, 8347.0, 8202.0, 11111.0, 8024.0, 9599.4580078125, 9295.15625, 8281.0517578125, 8169.25048828125, 7655.955078125, 7299.853515625, 7263.1064453125, 6445.8056640625, 6252.1328125, 5401.81591796875, 5051.275390625, 4671.28662109375, 4449.4638671875, 4230.89013671875, 4094.738037109375, 3963.678955078125, 3951.068115234375, 3931.73828125, 3678.763427734375, 3653.919189453125, 3624.11669921875, 3512.312255859375, 3485.512451171875, 3437.643798828125, 3332.524169921875, 3156.460205078125, 3102.5224609375, 3084.1650390625, 3069.05908203125, 3033.148193359375, 11111.6396484375, 6940.298828125, 5001.5068359375, 8864.8232421875, 8508.7607421875, 16767.154296875, 29335.599609375, 4862.47021484375, 8494.6591796875, 5434.462890625, 29915.3203125, 12110.689453125, 8347.705078125, 7503.9794921875, 7070.68505859375, 6460.74755859375, 6280.54541015625, 5516.970703125, 5157.94921875, 5008.7158203125, 4818.67724609375, 4705.85107421875, 4622.9912109375, 4547.95263671875, 4501.3486328125, 4369.2001953125, 4343.638671875, 3922.916748046875, 3695.093994140625, 3467.6044921875, 3459.2470703125, 3402.581787109375, 3322.008544921875, 3122.12060546875, 3099.4443359375, 3089.2099609375, 3078.953125, 3068.790283203125, 3037.640380859375, 3012.271240234375, 11136.513671875, 7997.81884765625, 17631.904296875, 7991.48974609375, 11778.45703125, 8492.451171875, 9271.4501953125, 9377.7900390625, 7438.78857421875, 5289.2265625, 20663.119140625, 8024.4541015625, 6958.6494140625, 6125.89599609375, 5700.81298828125, 5315.3447265625, 4919.09716796875, 4740.35205078125, 4632.171875, 4110.67626953125, 3921.559814453125, 3300.419921875, 3273.41748046875, 3170.2158203125, 3149.947021484375, 3151.4306640625, 3059.875732421875, 3050.747802734375, 3044.49169921875, 3023.42431640625, 2902.911376953125, 2871.67041015625, 2835.46337890625, 2740.0927734375, 2659.33154296875, 2619.916015625, 2578.158447265625, 2552.50341796875, 2532.796142578125, 2985.104248046875, 3011.19287109375, 13432.7646484375, 10366.89453125, 6491.390625, 6942.578125, 9271.4501953125, 6300.43701171875, 27710.681640625, 7438.78857421875, 17631.904296875, 8998.5341796875, 12242.5859375, 7355.10693359375, 6183.51708984375, 5894.7294921875, 5885.2841796875, 5838.7685546875, 5764.14404296875, 5501.70654296875, 4923.68115234375, 4618.4052734375, 4110.8125, 3988.54150390625, 3823.30224609375, 3599.39111328125, 3518.169677734375, 3407.671875, 3316.69677734375, 3224.435302734375, 3175.484130859375, 3119.71484375, 2755.316162109375, 2743.914306640625, 2649.697265625, 2635.123046875, 2581.853759765625, 2536.489501953125, 2536.99072265625, 2472.087646484375, 2439.911376953125, 2383.807373046875, 8202.0625, 11599.9111328125, 6881.12255859375, 4175.86279296875, 5538.74560546875, 27710.681640625, 3775.068115234375, 29335.599609375, 9033.9462890625, 8703.2333984375, 5206.44091796875, 4925.56884765625, 4887.5478515625, 4745.49853515625, 4096.45703125, 3955.266845703125, 3815.954833984375, 3751.185302734375, 3719.397705078125, 3639.040771484375, 3366.583740234375, 3255.87744140625, 3221.396484375, 3186.718505859375, 3024.746826171875, 2905.295654296875, 2834.58984375, 2804.7998046875, 2760.51611328125, 2742.5029296875, 2738.38525390625, 2723.83349609375, 2579.259033203125, 2541.56982421875, 2526.199462890625, 2502.01025390625, 2490.408447265625, 2994.234375, 3515.289306640625, 7093.298828125, 4822.51611328125, 29335.599609375, 4783.4912109375, 4366.38330078125, 27710.681640625, 4805.68701171875, 8864.8232421875, 13757.2353515625, 10030.421875, 9780.2060546875, 4351.44921875, 4253.853515625, 4192.75244140625, 4076.43310546875, 3610.260009765625, 3611.239501953125, 3625.91845703125, 3577.502685546875, 3503.326904296875, 3442.24658203125, 3372.427001953125, 2975.901123046875, 2693.337890625, 2703.697998046875, 2647.508544921875, 2636.028564453125, 2478.033203125, 2445.224365234375, 2438.39990234375, 2420.01318359375, 2394.956787109375, 2308.057373046875, 2249.30078125, 2199.516845703125, 2141.187255859375, 2114.72314453125, 2050.282470703125, 4021.37890625, 11227.7783203125, 7465.46044921875, 9377.7900390625, 27710.681640625, 4124.640625, 29335.599609375, 21792.654296875, 13725.5859375, 8903.44921875, 7324.90283203125, 6602.49560546875, 5771.2509765625, 5100.1435546875, 4676.81298828125, 4426.5126953125, 4399.34375, 4260.4296875, 5460.45068359375, 4114.4521484375, 3754.90869140625, 3570.788818359375, 3410.689697265625, 3359.8525390625, 3324.044921875, 3126.330810546875, 3117.58251953125, 3035.32275390625, 2891.868408203125, 2703.7958984375, 2619.006591796875, 2612.32275390625, 2421.207763671875, 2417.880126953125, 2265.982421875, 2244.706787109375, 2128.43115234375, 14683.4716796875, 5863.29296875, 6736.97900390625, 6777.498046875, 8998.5341796875, 8494.6591796875, 6877.62451171875, 9911.8056640625, 12379.849609375, 12050.4521484375, 10080.95703125, 8549.5263671875, 6602.00537109375, 5695.77685546875, 5630.947265625, 5521.537109375, 4652.35693359375, 4216.58837890625, 3411.302001953125, 3300.396484375, 3053.98974609375, 2748.68017578125, 2703.056396484375, 2661.84423828125, 2625.788818359375, 2558.524169921875, 2243.36474609375, 2202.80908203125, 2169.9482421875, 2131.587158203125, 2088.701416015625, 1986.3824462890625, 1931.7977294921875, 1917.5841064453125, 1875.147216796875, 1865.5013427734375, 1858.55517578125, 1842.064697265625, 6306.5693359375, 4185.73388671875, 11778.45703125, 9363.9306640625, 14683.4716796875, 10366.89453125, 13432.7646484375, 6676.888671875, 6221.0009765625, 5982.34423828125, 5987.71484375, 4897.69921875, 4803.9306640625, 4540.6689453125, 4391.705078125, 4250.24951171875, 3860.587158203125, 3850.5458984375, 3830.705322265625, 3781.196533203125, 3490.078857421875, 3460.509033203125, 3440.525634765625, 2679.390625, 2522.634765625, 2513.8251953125, 2424.9765625, 2209.0361328125, 2192.658447265625, 2130.699951171875, 2129.42236328125, 2087.55712890625, 2068.733154296875, 2029.7479248046875, 1993.6612548828125, 1979.8543701171875, 1966.3865966796875, 4764.64892578125, 16767.154296875, 8578.435546875, 5128.1708984375, 4073.732421875, 8475.4296875, 6731.3984375, 6657.28173828125, 6467.48828125, 4977.9091796875, 4537.45263671875, 3666.16552734375, 3284.35400390625, 3183.24560546875, 3089.79931640625, 3041.399658203125, 3019.327880859375, 2970.16259765625, 2962.6845703125, 2940.82763671875, 2893.149658203125, 2749.611572265625, 2661.966796875, 2657.8544921875, 2653.238525390625, 2634.63427734375, 2628.836669921875, 2618.714111328125, 2494.55810546875, 2380.311767578125, 2335.413330078125, 2317.184814453125, 2305.7470703125, 2118.75146484375, 2088.833740234375, 2083.267578125, 4121.24365234375, 3765.421630859375, 29335.599609375, 27710.681640625], \"loglift\": [30.0, 29.0, 28.0, 27.0, 26.0, 25.0, 24.0, 23.0, 22.0, 21.0, 20.0, 19.0, 18.0, 17.0, 16.0, 15.0, 14.0, 13.0, 12.0, 11.0, 10.0, 9.0, 8.0, 7.0, 6.0, 5.0, 4.0, 3.0, 2.0, 1.0, 2.0434000492095947, 2.0434000492095947, 2.0434000492095947, 2.0434000492095947, 2.0434000492095947, 2.0434000492095947, 2.0434000492095947, 2.043299913406372, 2.043299913406372, 2.043299913406372, 2.043299913406372, 2.043299913406372, 2.043299913406372, 2.043299913406372, 2.043299913406372, 2.043299913406372, 2.043299913406372, 2.043299913406372, 2.043299913406372, 2.043299913406372, 2.0432000160217285, 2.0432000160217285, 2.0432000160217285, 2.0432000160217285, 2.0432000160217285, 2.0432000160217285, 2.0432000160217285, 2.0432000160217285, 2.0432000160217285, 2.0432000160217285, 1.898800015449524, 1.840499997138977, 1.8825000524520874, 1.6378999948501587, 1.544800043106079, 1.0356999635696411, 0.4471000134944916, 1.773900032043457, 1.2519999742507935, 1.642300009727478, 2.1995999813079834, 2.1995999813079834, 2.1995999813079834, 2.1995999813079834, 2.19950008392334, 2.19950008392334, 2.19950008392334, 2.19950008392334, 2.19950008392334, 2.19950008392334, 2.19950008392334, 2.19950008392334, 2.19950008392334, 2.19950008392334, 2.19950008392334, 2.19950008392334, 2.19950008392334, 2.19950008392334, 2.199399948120117, 2.199399948120117, 2.199399948120117, 2.199399948120117, 2.199399948120117, 2.199399948120117, 2.199399948120117, 2.199399948120117, 2.199399948120117, 2.199399948120117, 2.199399948120117, 2.199399948120117, 2.068000078201294, 1.8310999870300293, 1.315000057220459, 1.7125999927520752, 1.4773000478744507, 1.5068999528884888, 1.4239000082015991, 1.2999999523162842, 1.5011999607086182, 1.7835999727249146, 2.2235000133514404, 2.2235000133514404, 2.223400115966797, 2.223400115966797, 2.223400115966797, 2.223400115966797, 2.223400115966797, 2.223400115966797, 2.223400115966797, 2.223400115966797, 2.223299980163574, 2.223299980163574, 2.223299980163574, 2.223299980163574, 2.223299980163574, 2.223299980163574, 2.223299980163574, 2.223299980163574, 2.223299980163574, 2.223299980163574, 2.223299980163574, 2.223299980163574, 2.223299980163574, 2.223299980163574, 2.2232000827789307, 2.2232000827789307, 2.2232000827789307, 2.2232000827789307, 2.2232000827789307, 2.2232000827789307, 2.2186999320983887, 2.0480000972747803, 1.9884999990463257, 2.0508999824523926, 1.752500057220459, 1.606600046157837, 1.7138999700546265, 0.5809000134468079, 1.535599946975708, 0.5720000267028809, 1.191499948501587, 2.2808001041412354, 2.2806999683380127, 2.2806999683380127, 2.2806999683380127, 2.2806999683380127, 2.2806999683380127, 2.2806999683380127, 2.2806999683380127, 2.2806999683380127, 2.280600070953369, 2.280600070953369, 2.280600070953369, 2.280600070953369, 2.280600070953369, 2.280600070953369, 2.280600070953369, 2.280600070953369, 2.280600070953369, 2.280600070953369, 2.280600070953369, 2.2804999351501465, 2.2804999351501465, 2.2804999351501465, 2.2804999351501465, 2.2804999351501465, 2.2804999351501465, 2.2804999351501465, 2.2804999351501465, 2.2804999351501465, 2.2804999351501465, 2.2711000442504883, 2.0738000869750977, 1.9184999465942383, 2.0615999698638916, 1.8930000066757202, 0.4611999988555908, 1.9697999954223633, -0.019500000402331352, 2.3043999671936035, 2.3043999671936035, 2.3043999671936035, 2.3043999671936035, 2.3043999671936035, 2.3043999671936035, 2.30430006980896, 2.30430006980896, 2.30430006980896, 2.30430006980896, 2.30430006980896, 2.30430006980896, 2.30430006980896, 2.30430006980896, 2.30430006980896, 2.30430006980896, 2.30430006980896, 2.3041999340057373, 2.3041999340057373, 2.3041999340057373, 2.3041999340057373, 2.3041999340057373, 2.3041999340057373, 2.3041999340057373, 2.3041999340057373, 2.3041999340057373, 2.3041999340057373, 2.3041999340057373, 2.3041999340057373, 2.3041999340057373, 2.2844998836517334, 1.9746999740600586, 2.087399959564209, 1.3753000497817993, 1.9757000207901, 2.0139999389648438, 0.3280999958515167, 1.794800043106079, 1.2058000564575195, 2.373800039291382, 2.373800039291382, 2.373800039291382, 2.373699903488159, 2.373699903488159, 2.373699903488159, 2.373699903488159, 2.3736000061035156, 2.3736000061035156, 2.3736000061035156, 2.3736000061035156, 2.3736000061035156, 2.3736000061035156, 2.3736000061035156, 2.3736000061035156, 2.373500108718872, 2.373500108718872, 2.373500108718872, 2.373500108718872, 2.373500108718872, 2.373500108718872, 2.373500108718872, 2.373500108718872, 2.373500108718872, 2.373500108718872, 2.373500108718872, 2.373500108718872, 2.373500108718872, 2.373500108718872, 2.373500108718872, 2.322700023651123, 2.11929988861084, 2.051500082015991, 1.851699948310852, 1.0061999559402466, 1.8451999425888062, -0.005100000184029341, 2.378999948501587, 2.3789000511169434, 2.3789000511169434, 2.3789000511169434, 2.3789000511169434, 2.3787999153137207, 2.3787999153137207, 2.3787999153137207, 2.3787999153137207, 2.3787999153137207, 2.3787999153137207, 2.3787999153137207, 2.3787999153137207, 2.3787999153137207, 2.3787999153137207, 2.378700017929077, 2.378700017929077, 2.378700017929077, 2.378700017929077, 2.378700017929077, 2.378700017929077, 2.378700017929077, 2.378700017929077, 2.378700017929077, 2.378700017929077, 2.3785998821258545, 2.3785998821258545, 2.3785998821258545, 2.3785998821258545, 2.3785998821258545, 2.051500082015991, 2.1475000381469727, 2.1033999919891357, 2.0515999794006348, 1.9384000301361084, 1.7752000093460083, 1.5918999910354614, 1.2523000240325928, 2.4173998832702637, 2.4173998832702637, 2.4173998832702637, 2.4173998832702637, 2.4173998832702637, 2.4173998832702637, 2.4173998832702637, 2.4173998832702637, 2.41729998588562, 2.41729998588562, 2.41729998588562, 2.41729998588562, 2.4172000885009766, 2.4172000885009766, 2.4172000885009766, 2.4172000885009766, 2.4172000885009766, 2.4172000885009766, 2.417099952697754, 2.417099952697754, 2.417099952697754, 2.417099952697754, 2.417099952697754, 2.417099952697754, 2.417099952697754, 2.417099952697754, 2.417099952697754, 2.417099952697754, 2.417099952697754, 2.417099952697754, 2.1328999996185303, 2.128999948501587, 1.7525999546051025, 1.6627000570297241, 1.141700029373169, 0.8539999723434448, 0.5910999774932861, 2.438499927520752, 2.438499927520752, 2.438499927520752, 2.438499927520752, 2.438499927520752, 2.438499927520752, 2.438499927520752, 2.4384000301361084, 2.4384000301361084, 2.4384000301361084, 2.4384000301361084, 2.4384000301361084, 2.4384000301361084, 2.4384000301361084, 2.4384000301361084, 2.4384000301361084, 2.4382998943328857, 2.4382998943328857, 2.4382998943328857, 2.4382998943328857, 2.4382998943328857, 2.4382998943328857, 2.438199996948242, 2.438199996948242, 2.438199996948242, 2.438199996948242, 2.438199996948242, 2.438199996948242, 2.438199996948242, 2.438199996948242, 2.3471999168395996, 1.9844000339508057, 1.8041000366210938, 2.001499891281128, 1.9728000164031982, 1.4313000440597534, 2.4398000240325928, 2.4398000240325928, 2.4398000240325928, 2.43969988822937, 2.43969988822937, 2.43969988822937, 2.43969988822937, 2.4395999908447266, 2.4395999908447266, 2.4395999908447266, 2.4395999908447266, 2.4395999908447266, 2.4395999908447266, 2.4395999908447266, 2.4395999908447266, 2.4395999908447266, 2.4395999908447266, 2.4395999908447266, 2.4395999908447266, 2.4395999908447266, 2.4395999908447266, 2.4395999908447266, 2.4395999908447266, 2.4395999908447266, 2.4395999908447266, 2.439500093460083, 2.439500093460083, 2.439500093460083, 2.439500093460083, 2.439500093460083, 2.4368999004364014, 2.051800012588501, 0.4683000147342682, 0.3246999979019165], \"logprob\": [30.0, 29.0, 28.0, 27.0, 26.0, 25.0, 24.0, 23.0, 22.0, 21.0, 20.0, 19.0, 18.0, 17.0, 16.0, 15.0, 14.0, 13.0, 12.0, 11.0, 10.0, 9.0, 8.0, 7.0, 6.0, 5.0, 4.0, 3.0, 2.0, 1.0, -4.265999794006348, -4.2982001304626465, -4.413700103759766, -4.427299976348877, -4.492199897766113, -4.539899826049805, -4.544899940490723, -4.664299964904785, -4.694799900054932, -4.841000080108643, -4.908100128173828, -4.986299991607666, -5.034999847412109, -5.085400104522705, -5.118100166320801, -5.150599956512451, -5.153800010681152, -5.158699989318848, -5.225299835205078, -5.23199987411499, -5.240200042724609, -5.271599769592285, -5.279200077056885, -5.293099880218506, -5.324100017547607, -5.378399848937988, -5.395699977874756, -5.401599884033203, -5.406499862670898, -5.418300151824951, -4.2642998695373535, -4.7932000160217285, -5.078800201416016, -4.751100063323975, -4.885200023651123, -4.71589994430542, -4.745100021362305, -5.21560001373291, -5.179699897766113, -5.236000061035156, -2.973099946975708, -3.8773999214172363, -4.249499797821045, -4.356100082397461, -4.415599822998047, -4.505799770355225, -4.53410005569458, -4.663700103759766, -4.730999946594238, -4.76039981842041, -4.799099922180176, -4.822800159454346, -4.84060001373291, -4.856900215148926, -4.867199897766113, -4.896999835968018, -4.902900218963623, -5.004799842834473, -5.064599990844727, -5.128200054168701, -5.1305999755859375, -5.14709997177124, -5.17110013961792, -5.2332000732421875, -5.240499973297119, -5.243800163269043, -5.247099876403809, -5.250400066375732, -5.2606000900268555, -5.269000053405762, -4.092899799346924, -4.660799980163574, -4.38640022277832, -4.780099868774414, -4.627500057220459, -4.925000190734863, -4.920199871063232, -5.032700061798096, -5.063199996948242, -5.121799945831299, -3.319200038909912, -4.265100002288818, -4.407700061798096, -4.535099983215332, -4.607100009918213, -4.67710018157959, -4.7546000480651855, -4.791600227355957, -4.814700126647949, -4.934100151062012, -4.981200218200684, -5.15369987487793, -5.161900043487549, -5.193999767303467, -5.200399875640869, -5.199900150299072, -5.229400157928467, -5.232399940490723, -5.234499931335449, -5.241399765014648, -5.282100200653076, -5.292900085449219, -5.305600166320801, -5.339799880981445, -5.369800090789795, -5.384699821472168, -5.4008002281188965, -5.410799980163574, -5.418499946594238, -5.254199981689453, -5.250100135803223, -3.9254000186920166, -4.24399995803833, -4.649700164794922, -4.880899906158447, -4.737599849700928, -5.016600131988525, -4.668399810791016, -5.028800010681152, -5.12939977645874, -5.182499885559082, -3.785399913787842, -4.295000076293945, -4.468500137329102, -4.516300201416016, -4.517899990081787, -4.525899887084961, -4.538700103759766, -4.585299968719482, -4.696400165557861, -4.76039981842041, -4.876800060272217, -4.9070000648498535, -4.949399948120117, -5.009699821472168, -5.03249979019165, -5.064499855041504, -5.0914998054504395, -5.119800090789795, -5.1350998878479, -5.1528000831604, -5.2769999504089355, -5.281199932098389, -5.316100120544434, -5.321599960327148, -5.342100143432617, -5.359799861907959, -5.359600067138672, -5.385499954223633, -5.398600101470947, -5.421899795532227, -4.1956000328063965, -4.046299934387207, -4.723800182342529, -5.0802001953125, -4.966300010681152, -4.788099765777588, -5.272900104522705, -5.2118000984191895, -4.0655999183654785, -4.10290002822876, -4.616799831390381, -4.672299861907959, -4.679999828338623, -4.709499835968018, -4.856599807739258, -4.89169979095459, -4.927599906921387, -4.944699764251709, -4.953199863433838, -4.975100040435791, -5.0528998374938965, -5.086299896240234, -5.0970001220703125, -5.107800006866455, -5.159999847412109, -5.200300216674805, -5.224899768829346, -5.235499858856201, -5.251399993896484, -5.257999897003174, -5.259500026702881, -5.264800071716309, -5.319399833679199, -5.334099769592285, -5.340199947357178, -5.349800109863281, -5.354400157928467, -5.170199871063232, -5.0295000076293945, -4.63730001449585, -4.910399913787842, -3.816999912261963, -5.030300140380859, -5.083099842071533, -4.921199798583984, -5.206399917602539, -5.183199882507324, -3.575700044631958, -3.891700029373169, -3.9168999195098877, -4.726900100708008, -4.749599933624268, -4.764100074768066, -4.792200088500977, -4.913700103759766, -4.913400173187256, -4.909299850463867, -4.922800064086914, -4.943699836730957, -4.961299896240234, -4.981800079345703, -5.10699987411499, -5.2067999839782715, -5.202899932861328, -5.223899841308594, -5.228300094604492, -5.29010009765625, -5.303400039672852, -5.30620002746582, -5.313799858093262, -5.32420015335083, -5.361199855804443, -5.38700008392334, -5.40939998626709, -5.436299800872803, -5.448699951171875, -5.479700088500977, -4.8566999435424805, -4.033400058746338, -4.509300231933594, -4.481100082397461, -4.243000030517578, -5.308899879455566, -5.197400093078613, -3.110599994659424, -3.5729000568389893, -4.00570011138916, -4.200900077819824, -4.304800033569336, -4.439300060272217, -4.563000202178955, -4.649700164794922, -4.704699993133545, -4.7108001708984375, -4.7428998947143555, -4.494800090789795, -4.7778000831604, -4.869200229644775, -4.91949987411499, -4.965400218963623, -4.980400085449219, -4.991199970245361, -5.052499771118164, -5.055300235748291, -5.081999778747559, -5.130499839782715, -5.197700023651123, -5.229599952697754, -5.2322001457214355, -5.308199882507324, -5.309500217437744, -5.374499797821045, -5.383900165557861, -5.437099933624268, -3.832900047302246, -4.654799938201904, -4.559999942779541, -4.605899810791016, -4.435699939727783, -4.656400203704834, -5.050899982452393, -5.025000095367432, -3.6375999450683594, -3.6644999980926514, -3.8429999351501465, -4.007800102233887, -4.266300201416016, -4.414000034332275, -4.4253997802734375, -4.445099830627441, -4.616399765014648, -4.714700222015381, -4.926700115203857, -4.959799766540527, -5.037399768829346, -5.1427998542785645, -5.1595001220703125, -5.174900054931641, -5.188499927520752, -5.2144999504089355, -5.3460001945495605, -5.364200115203857, -5.379300117492676, -5.39709997177124, -5.417399883270264, -5.467700004577637, -5.49560022354126, -5.502900123596191, -5.525300025939941, -5.5304999351501465, -5.534200191497803, -5.543099880218506, -4.59660005569458, -5.01039981842041, -4.352200031280518, -4.671500205993652, -4.742599964141846, -5.378399848937988, -5.382299900054932, -4.23390007019043, -4.304599761962891, -4.343800067901611, -4.342899799346924, -4.543799877166748, -4.563199996948242, -4.61959981918335, -4.652900218963623, -4.685699939727783, -4.781799793243408, -4.78439998626709, -4.789599895477295, -4.802599906921387, -4.882800102233887, -4.891300201416016, -4.89709997177124, -5.147200107574463, -5.207499980926514, -5.210999965667725, -5.247000217437744, -5.3403000831604, -5.347700119018555, -5.376399993896484, -5.376999855041504, -5.396900177001953, -5.405900001525879, -5.424900054931641, -5.44290018081665, -5.44980001449585, -5.456699848175049, -4.662700176239014, -3.7672998905181885, -4.617700099945068, -4.934800148010254, -5.193699836730957, -5.002600193023682, -4.2245001792907715, -4.235599994659424, -4.264500141143799, -4.526299953460693, -4.61899995803833, -4.832300186157227, -4.942299842834473, -4.973499774932861, -5.003300189971924, -5.019100189208984, -5.026400089263916, -5.042799949645996, -5.045400142669678, -5.052800178527832, -5.0690999031066895, -5.119999885559082, -5.152400016784668, -5.1539998054504395, -5.155700206756592, -5.162700176239014, -5.164899826049805, -5.168799877166748, -5.217400074005127, -5.2642998695373535, -5.283299922943115, -5.291200160980225, -5.29610013961792, -5.38070011138916, -5.394999980926514, -5.397600173950195, -4.718100070953369, -5.193399906158447, -4.723999977111816, -4.924499988555908]}, \"token.table\": {\"Topic\": [9, 7, 7, 8, 3, 8, 5, 10, 3, 2, 7, 8, 10, 10, 2, 2, 1, 9, 2, 3, 5, 6, 8, 10, 5, 3, 4, 5, 6, 7, 8, 10, 7, 10, 3, 2, 8, 9, 1, 3, 1, 8, 8, 3, 10, 2, 8, 5, 10, 2, 3, 1, 9, 10, 4, 5, 5, 9, 6, 9, 5, 7, 4, 8, 1, 8, 8, 7, 10, 5, 7, 8, 4, 10, 4, 3, 1, 4, 4, 2, 6, 1, 1, 9, 5, 1, 4, 7, 8, 2, 3, 6, 4, 6, 7, 4, 3, 10, 2, 3, 4, 2, 1, 7, 5, 8, 3, 9, 6, 7, 8, 2, 4, 9, 6, 1, 9, 2, 3, 6, 5, 3, 6, 7, 10, 7, 4, 7, 2, 9, 1, 1, 4, 7, 2, 10, 5, 7, 9, 3, 8, 6, 2, 4, 6, 8, 4, 6, 7, 4, 5, 4, 4, 4, 9, 1, 10, 3, 10, 7, 3, 8, 6, 2, 4, 7, 3, 8, 7, 1, 10, 3, 1, 9, 7, 6, 7, 9, 7, 5, 2, 3, 6, 8, 6, 2, 3, 2, 4, 8, 4, 10, 9, 3, 1, 4, 9, 1, 4, 3, 2, 9, 6, 10, 2, 9, 5, 1, 3, 6, 8, 1, 9, 1, 10, 4, 2, 6, 8, 9, 8, 3, 3, 9, 2, 6, 1, 5, 5, 3, 8, 3, 1, 3, 2, 6, 5, 10, 1, 6, 6, 10, 1, 7, 10, 3, 4, 9, 7, 5, 8, 1, 9, 5, 7, 1, 5, 2, 9, 1, 1, 2, 2, 8, 1, 1, 4, 4, 6, 1, 6, 10, 9, 5, 5, 8, 8, 2, 10, 1, 10, 9, 4, 7, 3, 7, 6, 1, 3, 1, 10, 2, 10, 6, 6, 1, 5, 6, 5, 3, 5, 10, 4, 4, 5, 5, 4, 9, 10, 10, 10, 10, 6, 9, 4, 1, 8, 5, 5, 7, 8, 1, 4, 5, 9, 9, 1, 6, 2, 4, 1, 5, 9, 4, 5, 9, 10, 2, 1, 7, 4, 9, 3, 5, 6, 3, 1, 1, 3, 4, 5, 6, 7, 9, 10, 1, 2, 7, 8, 9, 8, 2, 3, 8, 9, 1, 9, 9, 7, 4, 6, 2, 5, 2, 4, 8, 10, 6, 7, 8, 5, 6, 1, 6, 6, 9, 10, 3, 9, 4, 1, 2, 3, 5, 6, 7, 8, 10, 5, 3, 8, 5, 8, 3, 3, 2, 10, 3, 6, 8, 6, 6, 8, 8, 3, 7, 4, 8, 2, 7, 8, 3, 8, 9, 7, 8, 2, 9, 2, 2, 5, 3, 1, 1, 2, 6, 1, 1, 7, 6, 1, 6, 7, 7, 5, 6, 3, 8, 9, 2, 8, 2, 3, 2, 1, 5, 3, 8, 2, 3, 4, 6, 7, 8, 7, 7, 6], \"Freq\": [0.9998394250869751, 0.999775767326355, 0.7207674384117126, 0.2790115177631378, 0.7904970645904541, 0.20941661298274994, 0.9997140169143677, 0.9997775554656982, 0.9997549057006836, 0.65964275598526, 0.1765853613615036, 0.16372904181480408, 0.9997413158416748, 0.9996086955070496, 0.9998566508293152, 0.9997905492782593, 0.9997924566268921, 0.9996715188026428, 0.5002089142799377, 0.12469898164272308, 0.13070431351661682, 0.05322374030947685, 0.062055110931396484, 0.12905578315258026, 0.9998593330383301, 0.1934632956981659, 0.1621035486459732, 0.1385747194290161, 0.25470322370529175, 0.0892796516418457, 0.04128371924161911, 0.12060331553220749, 0.9999699592590332, 0.9996820688247681, 0.9997470378875732, 0.9998529553413391, 0.9997245669364929, 0.9996908903121948, 0.004649320151656866, 0.994954526424408, 0.9997895956039429, 0.9996759295463562, 0.9997012615203857, 0.9997665286064148, 0.9994488954544067, 0.9997662901878357, 0.999795138835907, 0.999893069267273, 0.9996784925460815, 0.691688597202301, 0.30820903182029724, 0.999875009059906, 0.9998806118965149, 0.9997689127922058, 0.9999163746833801, 0.9998952746391296, 0.7479874491691589, 0.2519247531890869, 0.9998766779899597, 0.9998472332954407, 0.9998878836631775, 0.9997343420982361, 0.9998649954795837, 0.9999232888221741, 0.9998729825019836, 0.9996091723442078, 0.9999050498008728, 0.9996945858001709, 0.9993915557861328, 0.9997531175613403, 0.9999249577522278, 0.9998636245727539, 0.8130234479904175, 0.18689797818660736, 0.9998683929443359, 0.9999257326126099, 0.9998830556869507, 0.999573826789856, 0.9997708797454834, 0.4067056179046631, 0.5932101011276245, 0.9998752474784851, 0.3539273738861084, 0.6458443403244019, 0.9998769164085388, 0.9998469352722168, 0.9998494982719421, 0.7207423448562622, 0.27922552824020386, 0.46033790707588196, 0.5396135449409485, 0.999896764755249, 0.9996675252914429, 0.9998733997344971, 0.9997974038124084, 0.9996094703674316, 0.9998354911804199, 0.999600887298584, 0.49725839495658875, 0.5026355981826782, 0.9998762607574463, 0.9999430775642395, 0.9997296929359436, 0.9995664358139038, 0.9995540380477905, 0.9996641874313354, 0.9999434351921082, 0.9995309710502625, 0.9996580481529236, 0.9997056126594543, 0.9999624490737915, 0.9997252821922302, 0.9997817873954773, 0.9998390674591064, 0.9996567368507385, 0.365058958530426, 0.6349318027496338, 0.0004973418544977903, 0.04898817092180252, 0.9501715898513794, 0.9997497797012329, 0.9994993209838867, 0.9998078942298889, 0.99989914894104, 0.99960857629776, 0.9998131394386292, 0.9996668100357056, 0.9996851086616516, 0.9999155402183533, 0.9998034238815308, 0.9997475147247314, 0.2841106057167053, 0.6961073279380798, 0.019764216616749763, 0.9998289942741394, 0.9995331764221191, 0.9998582601547241, 0.9995743036270142, 0.9997330904006958, 0.8414222002029419, 0.15851765871047974, 0.9998595118522644, 0.2670150399208069, 0.7327020168304443, 0.9995032548904419, 0.9993882179260254, 0.8031873106956482, 0.19660606980323792, 0.9996997117996216, 0.9996693134307861, 0.9998359680175781, 0.9998642206192017, 0.9998023509979248, 0.08709980547428131, 0.912554144859314, 0.8513434529304504, 0.1485552340745926, 0.9996165037155151, 0.9997185468673706, 0.9996156692504883, 0.9996503591537476, 0.999632716178894, 0.999374508857727, 0.9999131560325623, 0.9997368454933167, 0.9999573230743408, 0.999686062335968, 0.999422013759613, 0.9995642304420471, 0.9998286962509155, 0.9998074769973755, 0.9996856451034546, 0.8653088212013245, 0.1346336007118225, 0.9995011687278748, 0.24076072871685028, 0.7590939402580261, 0.9998528957366943, 0.9997580051422119, 0.9999153017997742, 0.2496814727783203, 0.12323884665966034, 0.1569853574037552, 0.4701017439365387, 0.9995830655097961, 0.9997039437294006, 0.9997137784957886, 0.6144036054611206, 0.18544727563858032, 0.19996272027492523, 0.999802827835083, 0.9994887113571167, 0.9996315240859985, 0.9998727440834045, 0.6072564721107483, 0.16606414318084717, 0.22658999264240265, 0.3213724195957184, 0.6784929633140564, 0.9996993541717529, 0.9996395111083984, 0.9998158812522888, 0.9995813369750977, 0.9999244809150696, 0.9996410608291626, 0.9995684623718262, 0.9995962381362915, 0.011416667141020298, 0.00047569445450790226, 0.23562730848789215, 0.7523900270462036, 0.9996214509010315, 0.99980628490448, 0.9998197555541992, 0.9998230338096619, 0.9998913407325745, 0.9998159408569336, 0.9994992613792419, 0.9997312426567078, 0.9996455907821655, 0.9996183514595032, 0.9998537302017212, 0.9998027682304382, 0.9996717572212219, 0.999825656414032, 0.999799370765686, 0.6665671467781067, 0.33333998918533325, 0.9998266100883484, 0.9997470378875732, 0.999699592590332, 0.9996011853218079, 0.9998127222061157, 0.9998724460601807, 0.99990314245224, 0.9997418522834778, 0.9997919201850891, 0.999940812587738, 0.9996548891067505, 0.9996098279953003, 0.9994217157363892, 0.999675989151001, 0.9996222257614136, 0.9994936585426331, 0.9997762441635132, 0.999859631061554, 0.999801516532898, 0.9998669028282166, 0.9996359944343567, 0.9998844861984253, 0.9999313950538635, 0.9997245669364929, 0.9998572468757629, 0.9997758269309998, 0.9998900890350342, 0.28082844614982605, 0.7189884781837463, 0.999884307384491, 0.9998582005500793, 0.9996918439865112, 0.9998188018798828, 0.9996964335441589, 0.48563235998153687, 0.5143288373947144, 0.9998122453689575, 0.9998756051063538, 0.9996613264083862, 0.9999521374702454, 0.9999579191207886, 0.0026690971571952105, 0.00024264519743155688, 0.9970291256904602, 0.999668300151825, 0.9997745156288147, 0.9995118379592896, 0.9998477101325989, 0.9998074769973755, 0.9997424483299255, 0.9996817111968994, 0.9998489618301392, 0.999900221824646, 0.9997060298919678, 0.9996264576911926, 0.9998767375946045, 0.35628023743629456, 0.6436603665351868, 0.9996510148048401, 0.9998476505279541, 0.99986332654953, 0.9996263980865479, 0.9996026158332825, 0.9999558925628662, 0.9998685717582703, 0.9995418787002563, 0.9998937249183655, 0.816247284412384, 0.00014408602146431804, 0.18356558680534363, 0.9997305274009705, 0.00020736063015647233, 0.8047665953636169, 0.19471164047718048, 0.9996594190597534, 0.9995600581169128, 0.9996939897537231, 0.9998884201049805, 0.9999122619628906, 0.9998542070388794, 0.9998922348022461, 0.9996368288993835, 0.9997273087501526, 0.9998173713684082, 0.9999101758003235, 0.9996997117996216, 0.9998475313186646, 0.9998316168785095, 0.9996828436851501, 0.9998165965080261, 0.9995877742767334, 0.7934107780456543, 0.20653922855854034, 0.1970401555299759, 0.2627595365047455, 0.17485839128494263, 0.36517322063446045, 0.9997483491897583, 0.7636036276817322, 0.23609399795532227, 0.9996904134750366, 0.9998070001602173, 0.6696153879165649, 0.16689781844615936, 0.16340161859989166, 0.39911046624183655, 0.6007465720176697, 0.32134515047073364, 0.678277313709259, 0.9998570680618286, 0.9999523162841797, 0.9996856451034546, 0.990360677242279, 0.00963172409683466, 0.011663336306810379, 0.9800046682357788, 0.007965205237269402, 0.9995506405830383, 0.9998542070388794, 0.20265479385852814, 0.0004772358515765518, 0.10021953284740448, 0.3948785960674286, 0.09265193343162537, 0.0003749710158444941, 0.06954008340835571, 0.13921651244163513, 0.15527306497097015, 0.14536450803279877, 0.00221485598012805, 0.16681362688541412, 0.5301666259765625, 0.9998317956924438, 0.9999225735664368, 0.9998572468757629, 0.9998604655265808, 0.9998016357421875, 0.3721402883529663, 0.6276798844337463, 0.9995973110198975, 0.9997791051864624, 0.99952232837677, 0.9996004700660706, 0.999824047088623, 0.9995251893997192, 0.9997891783714294, 0.999871551990509, 0.9997525215148926, 0.9995601773262024, 0.7752201557159424, 0.22471052408218384, 0.9999027252197266, 0.9998130202293396, 0.999697208404541, 0.27553558349609375, 0.7244027256965637, 0.9997650384902954, 0.9998478889465332, 0.9996453523635864, 0.9998573660850525, 0.9998526573181152, 0.9997898936271667, 0.9998529553413391, 0.41283118724823, 0.19175466895103455, 0.00028357686824165285, 0.13486915826797485, 0.1419018656015396, 0.11462176591157913, 0.0037432145327329636, 0.9997148513793945, 0.2503742575645447, 0.7494503855705261, 0.999679684638977, 0.999938428401947, 0.9999066591262817, 0.9998384714126587, 0.9996083378791809, 0.9997592568397522, 0.6242637634277344, 0.21908287703990936, 0.15642604231834412, 0.9998360276222229, 0.9996378421783447, 0.9996954202651978, 0.9998798966407776, 0.9998365640640259, 0.9997977614402771, 0.9998616576194763, 0.9995870590209961, 0.33529019355773926, 0.4550989866256714, 0.20937462151050568, 0.9999458193778992, 0.9998373985290527, 0.9996835589408875, 0.9998841881752014, 0.9995630383491516, 0.9995779991149902, 0.9999424815177917, 0.9997856020927429, 0.9998191595077515, 0.9996840357780457, 0.9997769594192505, 0.9997484087944031, 0.26281076669692993, 0.14764922857284546, 0.5893846750259399, 0.9998427033424377, 0.4531082212924957, 0.5466964244842529, 0.9998205304145813, 0.9998957514762878, 0.9997466802597046, 0.9997832179069519, 0.9997462630271912, 0.999894917011261, 0.9994454979896545, 0.6005932688713074, 0.2637912333011627, 0.13538743555545807, 0.8765759468078613, 0.12328813225030899, 0.9998694658279419, 0.9996300935745239, 0.9998594522476196, 0.2801301181316376, 0.7197672128677368, 0.8389933109283447, 0.1609497368335724, 0.12964338064193726, 0.15163736045360565, 0.21227212250232697, 0.10310936719179153, 0.3241589069366455, 0.07909759879112244, 0.99994957447052, 0.999826192855835, 0.9996212720870972], \"Term\": [\"aboriginal\", \"abuse\", \"accused\", \"accused\", \"adelaide\", \"adelaide\", \"aged\", \"airport\", \"alan\", \"alleged\", \"alleged\", \"alleged\", \"andrew\", \"anti\", \"appeal\", \"arrested\", \"ashes\", \"asylum\", \"attack\", \"attack\", \"attack\", \"attack\", \"attack\", \"attack\", \"attacks\", \"australia\", \"australia\", \"australia\", \"australia\", \"australia\", \"australia\", \"australia\", \"australian\", \"australians\", \"australias\", \"baby\", \"bail\", \"bank\", \"battle\", \"battle\", \"beach\", \"beat\", \"beats\", \"black\", \"blog\", \"body\", \"boss\", \"brexit\", \"briefing\", \"brisbane\", \"brisbane\", \"budget\", \"bushfire\", \"bushfires\", \"business\", \"calls\", \"campaign\", \"campaign\", \"canberra\", \"cancer\", \"care\", \"case\", \"cattle\", \"centre\", \"change\", \"charge\", \"charged\", \"charges\", \"check\", \"chief\", \"child\", \"children\", \"china\", \"china\", \"chinese\", \"christmas\", \"climate\", \"close\", \"coal\", \"coast\", \"coast\", \"commission\", \"community\", \"community\", \"company\", \"council\", \"country\", \"court\", \"court\", \"crash\", \"crash\", \"cricket\", \"crisis\", \"cyclone\", \"dairy\", \"data\", \"david\", \"days\", \"dead\", \"dead\", \"deal\", \"death\", \"debate\", \"defence\", \"defends\", \"detention\", \"dies\", \"doctor\", \"dogs\", \"dollar\", \"donald\", \"driver\", \"drought\", \"drum\", \"east\", \"election\", \"election\", \"emergency\", \"emergency\", \"emergency\", \"energy\", \"england\", \"extended\", \"face\", \"facebook\", \"faces\", \"fall\", \"falls\", \"family\", \"fans\", \"farm\", \"farmers\", \"farmers\", \"farmers\", \"fatal\", \"father\", \"federal\", \"festival\", \"film\", \"final\", \"final\", \"finance\", \"finds\", \"finds\", \"fires\", \"flight\", \"food\", \"food\", \"footage\", \"foreign\", \"france\", \"free\", \"friday\", \"funding\", \"funding\", \"future\", \"future\", \"game\", \"games\", \"george\", \"girl\", \"gives\", \"global\", \"gold\", \"good\", \"government\", \"grand\", \"grandstand\", \"great\", \"group\", \"guilty\", \"head\", \"health\", \"health\", \"hears\", \"high\", \"high\", \"history\", \"hits\", \"hobart\", \"home\", \"home\", \"home\", \"home\", \"homes\", \"hong\", \"hour\", \"house\", \"house\", \"house\", \"housing\", \"human\", \"hunter\", \"india\", \"indigenous\", \"indigenous\", \"indigenous\", \"industry\", \"industry\", \"injured\", \"inquest\", \"inquiry\", \"international\", \"interview\", \"investigation\", \"iran\", \"islamic\", \"island\", \"island\", \"island\", \"island\", \"issues\", \"jailed\", \"james\", \"japan\", \"jobs\", \"john\", \"johnson\", \"joins\", \"june\", \"kids\", \"killed\", \"kills\", \"kohler\", \"kong\", \"korea\", \"labor\", \"labor\", \"leader\", \"league\", \"leave\", \"leaves\", \"legal\", \"liberal\", \"life\", \"light\", \"like\", \"live\", \"local\", \"long\", \"loss\", \"lost\", \"making\", \"malcolm\", \"march\", \"mark\", \"market\", \"markets\", \"marriage\", \"media\", \"melbourne\", \"mental\", \"michael\", \"military\", \"million\", \"minister\", \"minister\", \"missing\", \"monday\", \"money\", \"morrison\", \"mother\", \"murder\", \"murder\", \"murray\", \"national\", \"newcastle\", \"news\", \"north\", \"northern\", \"northern\", \"northern\", \"november\", \"officer\", \"online\", \"open\", \"opens\", \"outback\", \"parents\", \"park\", \"parliament\", \"party\", \"paul\", \"people\", \"perth\", \"perth\", \"peter\", \"plan\", \"plane\", \"plans\", \"pleads\", \"police\", \"political\", \"politics\", \"port\", \"power\", \"power\", \"power\", \"premier\", \"president\", \"president\", \"president\", \"prices\", \"prime\", \"prince\", \"prison\", \"program\", \"project\", \"protest\", \"protesters\", \"protests\", \"public\", \"queensland\", \"quiz\", \"race\", \"rail\", \"rape\", \"rate\", \"rates\", \"record\", \"record\", \"report\", \"report\", \"report\", \"report\", \"research\", \"residents\", \"residents\", \"return\", \"reveals\", \"review\", \"review\", \"review\", \"rise\", \"rise\", \"risk\", \"risk\", \"road\", \"royal\", \"rugby\", \"rural\", \"rural\", \"russia\", \"russia\", \"russia\", \"russian\", \"save\", \"says\", \"says\", \"says\", \"says\", \"says\", \"says\", \"says\", \"says\", \"school\", \"school\", \"school\", \"school\", \"school\", \"scott\", \"search\", \"season\", \"second\", \"september\", \"service\", \"service\", \"services\", \"sexual\", \"share\", \"shark\", \"shooting\", \"shorten\", \"shot\", \"shows\", \"smith\", \"social\", \"south\", \"south\", \"speaks\", \"staff\", \"star\", \"state\", \"state\", \"steve\", \"stories\", \"story\", \"street\", \"students\", \"study\", \"super\", \"sydney\", \"sydney\", \"sydney\", \"sydney\", \"sydney\", \"sydney\", \"sydney\", \"syria\", \"takes\", \"takes\", \"talks\", \"tasmania\", \"tasmanian\", \"team\", \"teen\", \"territory\", \"test\", \"test\", \"test\", \"threat\", \"thursday\", \"title\", \"told\", \"tour\", \"town\", \"trade\", \"training\", \"trial\", \"trial\", \"trial\", \"trump\", \"trumps\", \"tuesday\", \"turnbull\", \"university\", \"victim\", \"victoria\", \"video\", \"violence\", \"vote\", \"wall\", \"wants\", \"warning\", \"warning\", \"warning\", \"waste\", \"water\", \"water\", \"weather\", \"wednesday\", \"week\", \"west\", \"western\", \"white\", \"wild\", \"wins\", \"wins\", \"wins\", \"woman\", \"woman\", \"women\", \"womens\", \"work\", \"workers\", \"workers\", \"world\", \"world\", \"year\", \"year\", \"year\", \"year\", \"year\", \"year\", \"years\", \"young\", \"zealand\"]}, \"R\": 30, \"lambda.step\": 0.01, \"plot.opts\": {\"xlab\": \"PC1\", \"ylab\": \"PC2\"}, \"topic.order\": [10, 8, 6, 7, 4, 5, 2, 1, 9, 3]};\n",
       "\n",
       "function LDAvis_load_lib(url, callback){\n",
       "  var s = document.createElement('script');\n",
       "  s.src = url;\n",
       "  s.async = true;\n",
       "  s.onreadystatechange = s.onload = callback;\n",
       "  s.onerror = function(){console.warn(\"failed to load library \" + url);};\n",
       "  document.getElementsByTagName(\"head\")[0].appendChild(s);\n",
       "}\n",
       "\n",
       "if(typeof(LDAvis) !== \"undefined\"){\n",
       "   // already loaded: just create the visualization\n",
       "   !function(LDAvis){\n",
       "       new LDAvis(\"#\" + \"ldavis_el7743770804059685813159843\", ldavis_el7743770804059685813159843_data);\n",
       "   }(LDAvis);\n",
       "}else if(typeof define === \"function\" && define.amd){\n",
       "   // require.js is available: use it to load d3/LDAvis\n",
       "   require.config({paths: {d3: \"https://cdnjs.cloudflare.com/ajax/libs/d3/3.5.5/d3.min\"}});\n",
       "   require([\"d3\"], function(d3){\n",
       "      window.d3 = d3;\n",
       "      LDAvis_load_lib(\"https://cdn.rawgit.com/bmabey/pyLDAvis/files/ldavis.v1.0.0.js\", function(){\n",
       "        new LDAvis(\"#\" + \"ldavis_el7743770804059685813159843\", ldavis_el7743770804059685813159843_data);\n",
       "      });\n",
       "    });\n",
       "}else{\n",
       "    // require.js not available: dynamically load d3 & LDAvis\n",
       "    LDAvis_load_lib(\"https://cdnjs.cloudflare.com/ajax/libs/d3/3.5.5/d3.min.js\", function(){\n",
       "         LDAvis_load_lib(\"https://cdn.rawgit.com/bmabey/pyLDAvis/files/ldavis.v1.0.0.js\", function(){\n",
       "                 new LDAvis(\"#\" + \"ldavis_el7743770804059685813159843\", ldavis_el7743770804059685813159843_data);\n",
       "            })\n",
       "         });\n",
       "}\n",
       "</script>"
      ],
      "text/plain": [
       "<IPython.core.display.HTML object>"
      ]
     },
     "execution_count": 68,
     "metadata": {},
     "output_type": "execute_result"
    }
   ],
   "source": [
    "%matplotlib inline\n",
    "import pyLDAvis\n",
    "import pyLDAvis.gensim\n",
    "vis = pyLDAvis.gensim.prepare(topic_model=lda_model, corpus=bow_corpus, dictionary=dictionary)\n",
    "pyLDAvis.enable_notebook()\n",
    "pyLDAvis.display(vis)"
   ]
  },
  {
   "cell_type": "markdown",
   "metadata": {},
   "source": [
    "## Some other useful functions"
   ]
  },
  {
   "cell_type": "code",
   "execution_count": 17,
   "metadata": {},
   "outputs": [
    {
     "name": "stdout",
     "output_type": "stream",
     "text": [
      "8124 : trump : 0.04699096\n",
      "1188 : market : 0.02399307\n",
      "108 : home : 0.023624558\n",
      "2403 : sydney : 0.01805567\n",
      "1245 : island : 0.015992796\n",
      "415 : time : 0.015155418\n",
      "12 : rise : 0.011859745\n",
      "1195 : year : 0.011257553\n",
      "110 : rate : 0.01086982\n",
      "104 : bank : 0.010578444\n",
      "2058 : medium : 0.009465512\n",
      "970 : jail : 0.009330791\n",
      "205 : risk : 0.009104257\n",
      "1254 : week : 0.0089947535\n",
      "1252 : share : 0.0086471485\n",
      "1192 : sentenced : 0.008403559\n",
      "939 : appeal : 0.007428137\n",
      "37 : australia : 0.0073785335\n",
      "2924 : refugee : 0.0071478444\n",
      "352 : hill : 0.0070534092\n"
     ]
    }
   ],
   "source": [
    "#get the top 20 words and their weights for a specific topic\n",
    "topic_id=1\n",
    "top_terms=20\n",
    "for wordid, score in lda_model.get_topic_terms(topic_id, top_terms):\n",
    "    print(wordid, \":\", dictionary[wordid], \":\", score)"
   ]
  },
  {
   "cell_type": "code",
   "execution_count": 18,
   "metadata": {},
   "outputs": [],
   "source": [
    "#### Utility function to get the id for a word\n",
    "\n",
    "def get_id_for_word(dictionary, word):\n",
    "    for k, v in dictionary.iteritems():\n",
    "        if (v==word):\n",
    "            return k\n",
    "    return -1"
   ]
  },
  {
   "cell_type": "code",
   "execution_count": 21,
   "metadata": {},
   "outputs": [
    {
     "name": "stdout",
     "output_type": "stream",
     "text": [
      "Topic: 1\n",
      "8124 : trump : 0.04699096\n",
      "1188 : market : 0.02399307\n",
      "108 : home : 0.023624558\n",
      "2403 : sydney : 0.01805567\n",
      "1245 : island : 0.015992796\n",
      "415 : time : 0.015155418\n",
      "12 : rise : 0.011859745\n",
      "1195 : year : 0.011257553\n",
      "110 : rate : 0.01086982\n",
      "104 : bank : 0.010578444\n",
      "2058 : medium : 0.009465512\n",
      "970 : jail : 0.009330791\n",
      "205 : risk : 0.009104257\n",
      "1254 : week : 0.0089947535\n",
      "1252 : share : 0.0086471485\n",
      "1192 : sentenced : 0.008403559\n",
      "939 : appeal : 0.007428137\n",
      "37 : australia : 0.0073785335\n",
      "2924 : refugee : 0.0071478444\n",
      "352 : hill : 0.0070534092\n"
     ]
    }
   ],
   "source": [
    "top_terms=20\n",
    "index=get_id_for_word(dictionary,'market')\n",
    "for topic_id, score in lda_model.get_term_topics(index):\n",
    "    print(\"Topic:\", topic_id)\n",
    "    for wordid, score in lda_model.get_topic_terms(topic_id, top_terms):\n",
    "        print(wordid, \":\", dictionary[wordid], \":\", score)\n"
   ]
  },
  {
   "cell_type": "markdown",
   "metadata": {},
   "source": [
    "## Saving and loading your model for re-use\n",
    "\n",
    "Building a model takes time.Once you have a stable model, you can save it to disk and reload it later."
   ]
  },
  {
   "cell_type": "code",
   "execution_count": 24,
   "metadata": {},
   "outputs": [
    {
     "name": "stdout",
     "output_type": "stream",
     "text": [
      "/Users/piek/opt/anaconda3/lib/python3.7/site-packages/gensim/test/test_data/./model\n"
     ]
    }
   ],
   "source": [
    "# Save model to disk.\n",
    "temp_file = \"./model\"\n",
    "lda_model.save(temp_file)\n",
    "\n",
    "# Load a potentially pretrained model from disk.\n",
    "loaded_lda = LdaModel.load(temp_file)"
   ]
  },
  {
   "cell_type": "markdown",
   "metadata": {},
   "source": [
    "## Testing model on unseen document"
   ]
  },
  {
   "cell_type": "code",
   "execution_count": 25,
   "metadata": {},
   "outputs": [],
   "source": [
    "unseen_document = 'How a Pentagon deal became an identity crisis for Google'"
   ]
  },
  {
   "cell_type": "markdown",
   "metadata": {},
   "source": [
    "In order to compare any new text against the topic model, we first need to process it in the same way as we processed the input texts for the model.\n",
    "We apply the same preprocessing function and next apply the *doc2bow* function to represent it using the same vector representation as we used for modeling."
   ]
  },
  {
   "cell_type": "code",
   "execution_count": 26,
   "metadata": {},
   "outputs": [
    {
     "name": "stdout",
     "output_type": "stream",
     "text": [
      "[(888, 1), (1088, 1), (1920, 1), (5640, 1), (12290, 1)]\n"
     ]
    }
   ],
   "source": [
    "bow_vector = dictionary.doc2bow(preprocess(unseen_document))\n",
    "print(bow_vector)\n"
   ]
  },
  {
   "cell_type": "markdown",
   "metadata": {},
   "source": [
    "We can now pass this representation of the unseen document into the model to compare it against all the topics.\n",
    "The next function returns in index to the topics and a similarity score for the new document. We print the scores and the topics with the top 5 words."
   ]
  },
  {
   "cell_type": "code",
   "execution_count": 29,
   "metadata": {},
   "outputs": [
    {
     "name": "stdout",
     "output_type": "stream",
     "text": [
      "Score: 0.3501623868942261\t Topic_id 5\t Topic: 0.028*\"australian\" + 0.026*\"election\" + 0.019*\"china\" + 0.019*\"donald\" + 0.019*\"south\"\n",
      "Score: 0.35012122988700867\t Topic_id 1\t Topic: 0.047*\"trump\" + 0.024*\"market\" + 0.024*\"home\" + 0.018*\"sydney\" + 0.016*\"island\"\n",
      "Score: 0.18297365307807922\t Topic_id 2\t Topic: 0.027*\"world\" + 0.017*\"australian\" + 0.016*\"tasmania\" + 0.015*\"farmer\" + 0.014*\"final\"\n",
      "Score: 0.01668226346373558\t Topic_id 0\t Topic: 0.018*\"open\" + 0.015*\"tasmanian\" + 0.015*\"case\" + 0.013*\"health\" + 0.011*\"liberal\"\n",
      "Score: 0.016678284853696823\t Topic_id 7\t Topic: 0.018*\"government\" + 0.015*\"change\" + 0.014*\"federal\" + 0.013*\"rural\" + 0.013*\"country\"\n",
      "Score: 0.016676433384418488\t Topic_id 3\t Topic: 0.022*\"crash\" + 0.022*\"adelaide\" + 0.016*\"dy\" + 0.016*\"people\" + 0.016*\"royal\"\n",
      "Score: 0.016676433384418488\t Topic_id 4\t Topic: 0.018*\"test\" + 0.013*\"plan\" + 0.012*\"australia\" + 0.012*\"work\" + 0.011*\"park\"\n",
      "Score: 0.016676433384418488\t Topic_id 6\t Topic: 0.021*\"water\" + 0.019*\"help\" + 0.016*\"victoria\" + 0.015*\"missing\" + 0.013*\"melbourne\"\n",
      "Score: 0.016676433384418488\t Topic_id 8\t Topic: 0.015*\"business\" + 0.014*\"interview\" + 0.014*\"live\" + 0.014*\"street\" + 0.014*\"guilty\"\n",
      "Score: 0.016676433384418488\t Topic_id 9\t Topic: 0.049*\"police\" + 0.026*\"court\" + 0.024*\"woman\" + 0.024*\"queensland\" + 0.020*\"murder\"\n"
     ]
    }
   ],
   "source": [
    "for index, score in sorted(lda_model[bow_vector], key=lambda tup: -1*tup[1]):\n",
    "    print(\"Score: {}\\t Topic_id {}\\t Topic: {}\".format(score, index, lda_model.print_topic(index, 5)))"
   ]
  },
  {
   "cell_type": "markdown",
   "metadata": {},
   "source": [
    "This text matches best with topic 5 although the score is not very high!"
   ]
  },
  {
   "cell_type": "markdown",
   "metadata": {},
   "source": [
    "### Updating the model with a new document\n",
    "\n",
    "We can also use the unseen documents to extend our model and update the topics. This is useful when processing texts in a stream."
   ]
  },
  {
   "cell_type": "code",
   "execution_count": 30,
   "metadata": {},
   "outputs": [
    {
     "name": "stderr",
     "output_type": "stream",
     "text": [
      "/Users/piek/opt/anaconda3/lib/python3.7/site-packages/gensim/models/ldamodel.py:824: RuntimeWarning: overflow encountered in exp2\n",
      "  perwordbound, np.exp2(-perwordbound), len(chunk), corpus_words\n"
     ]
    }
   ],
   "source": [
    "# Update the model by incrementally training on the new corpus.\n",
    "\n",
    "other_texts = [['computer', 'time', 'graph'],['survey', 'response', 'eps'],['human', 'system', 'computer']]\n",
    "other_corpus = [dictionary.doc2bow(text) for text in other_texts]\n",
    "\n",
    "# Update the model by incrementally training on the new corpus.\n",
    "lda_model.update(other_corpus)  # update the LDA model with additional documents\n",
    "\n"
   ]
  },
  {
   "cell_type": "markdown",
   "metadata": {},
   "source": [
    "## End of this notebook"
   ]
  },
  {
   "cell_type": "code",
   "execution_count": null,
   "metadata": {},
   "outputs": [],
   "source": []
  }
 ],
 "metadata": {
  "kernelspec": {
   "display_name": "Python 3",
   "language": "python",
   "name": "python3"
  },
  "language_info": {
   "codemirror_mode": {
    "name": "ipython",
    "version": 3
   },
   "file_extension": ".py",
   "mimetype": "text/x-python",
   "name": "python",
   "nbconvert_exporter": "python",
   "pygments_lexer": "ipython3",
   "version": "3.7.4"
  }
 },
 "nbformat": 4,
 "nbformat_minor": 4
}
