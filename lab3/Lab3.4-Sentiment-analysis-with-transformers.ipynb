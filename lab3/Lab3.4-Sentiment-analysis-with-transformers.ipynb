{
 "cells": [
  {
   "cell_type": "markdown",
   "metadata": {},
   "source": [
    "# Lab3.4 Sentiment Classification using transformer models"
   ]
  },
  {
   "cell_type": "markdown",
   "metadata": {},
   "source": [
    "Copyright: Vrije Universiteit Amsterdam, Faculty of Humanities, CLTL"
   ]
  },
  {
   "cell_type": "markdown",
   "metadata": {},
   "source": [
    "This notebook explains how you can use a transformer model that is fine-tuned for sentiment analysis. Fine-tuned transformer models are published regularly on the huggingface platform: https://huggingface.co/models\n",
    "\n",
    "These models are very big (Gigabytes) and require a computer with sufficient memory to load. Furthermore, loading these models takes some time as well. It is also possible to copy such a model to your disk and to load the local copy. Still a substantial memory is needed to load it."
   ]
  },
  {
   "cell_type": "markdown",
   "metadata": {},
   "source": [
    "This notebook requires installing some deep learning packages: transformers, pytorch and simpletransformers. If you are not experienced with installing these packages, make sure you first define a virtual environment for python, activate this environment and install the packages in this enviroment.\n",
    "\n",
    "Please consult the Python documentation for installing such an enviroment:\n",
    "\n",
    "https://docs.python.org/3/library/venv.html\n",
    "\n",
    "After activating your enviroment you can install pytorch, transformers and simpletransformers from the command line. If you start this notebook within the same virtual environment you can also execute the next installation commands from your notebook. Once installed, you can comment out the next cell."
   ]
  },
  {
   "cell_type": "code",
   "execution_count": 1,
   "metadata": {},
   "outputs": [],
   "source": [
    "#!conda install pytorch cpuonly -c pytorch\n",
    "#!pip install transformers\n",
    "#!pip install simpletransformers"
   ]
  },
  {
   "cell_type": "markdown",
   "metadata": {},
   "source": [
    "Huggingface transfomers provides an option to create a **pipeline** to perform a NLP task with a pretrained model: \n",
    "\n",
    "\"The pipelines are a great and easy way to use models for inference. These pipelines are objects that abstract most of the complex code from the library, offering a simple API dedicated to several tasks, including Named Entity Recognition, Masked Language Modeling, Sentiment Analysis, Feature Extraction and Question Answering.\"\n",
    "\n",
    "More information can be found here: https://huggingface.co/transformers/v3.0.2/main_classes/pipelines.html\n",
    "\n",
    "We will use the pipeline module to load a fine-tuned model to perform senteiment analysis"
   ]
  },
  {
   "cell_type": "code",
   "execution_count": 2,
   "metadata": {},
   "outputs": [],
   "source": [
    "from transformers import pipeline"
   ]
  },
  {
   "cell_type": "markdown",
   "metadata": {},
   "source": [
    "We load a transformer model 'distilbert-base-uncased-finetuned-sst-2-english' that is fine-tuned for binary classification from the Hugging face repository:\n",
    "\n",
    "https://huggingface.co/models\n",
    "\n",
    "We need to load the model for the sequence classifcation and the tokenizer to convert the sentences into tokens according to the vocabulary of the model.\n",
    "\n",
    "Loading the model takes some time."
   ]
  },
  {
   "cell_type": "code",
   "execution_count": 4,
   "metadata": {},
   "outputs": [],
   "source": [
    "sentimentenglish = pipeline(\"sentiment-analysis\", \n",
    "                            model=\"distilbert-base-uncased-finetuned-sst-2-english\", \n",
    "                            tokenizer=\"distilbert-base-uncased-finetuned-sst-2-english\")"
   ]
  },
  {
   "cell_type": "markdown",
   "metadata": {},
   "source": [
    "We now created an instantiation of a pipeline that can tokenize any sentence, obtain a sententence embedding from the transformer language model and perform the **sentiment-analysis** task. Let's try it out on an example sentence."
   ]
  },
  {
   "cell_type": "code",
   "execution_count": 5,
   "metadata": {},
   "outputs": [],
   "source": [
    "sentence_pos_en = \"Nice hotel and the service is great\""
   ]
  },
  {
   "cell_type": "code",
   "execution_count": 6,
   "metadata": {},
   "outputs": [
    {
     "data": {
      "text/plain": [
       "[{'label': 'POSITIVE', 'score': 0.9998814463615417}]"
      ]
     },
     "execution_count": 6,
     "metadata": {},
     "output_type": "execute_result"
    }
   ],
   "source": [
    "sentimentenglish(sentence_pos_en)"
   ]
  },
  {
   "cell_type": "code",
   "execution_count": 7,
   "metadata": {},
   "outputs": [],
   "source": [
    "sentence_neg_en = \"The rooms are dirty and the wifi does not work\""
   ]
  },
  {
   "cell_type": "code",
   "execution_count": 8,
   "metadata": {},
   "outputs": [
    {
     "data": {
      "text/plain": [
       "[{'label': 'NEGATIVE', 'score': 0.9997869729995728}]"
      ]
     },
     "execution_count": 8,
     "metadata": {},
     "output_type": "execute_result"
    }
   ],
   "source": [
    "sentimentenglish(sentence_neg_en)"
   ]
  },
  {
   "cell_type": "markdown",
   "metadata": {},
   "source": [
    "This is easy and seems to work very well. "
   ]
  },
  {
   "cell_type": "markdown",
   "metadata": {},
   "source": [
    "## Using a Dutch fine-tuned transformer model"
   ]
  },
  {
   "cell_type": "markdown",
   "metadata": {},
   "source": [
    "We can use a fine-tuned Dutch model for Dutch sentiment analysis by creating another pipeline. Again loading this model takes some time. Also note that after loading, both moodels are loaded in memory. So if you have issues loading, you may want to start over and try again just with the Dutch pipeline."
   ]
  },
  {
   "cell_type": "code",
   "execution_count": 10,
   "metadata": {},
   "outputs": [],
   "source": [
    "sentimentdutch = pipeline(\"sentiment-analysis\", \n",
    "                          model=\"wietsedv/bert-base-dutch-cased-finetuned-sentiment\", \n",
    "                          tokenizer=\"wietsedv/bert-base-dutch-cased-finetuned-sentiment\")"
   ]
  },
  {
   "cell_type": "markdown",
   "metadata": {},
   "source": [
    "We test it on two similar Dutch sentences:"
   ]
  },
  {
   "cell_type": "code",
   "execution_count": 11,
   "metadata": {},
   "outputs": [],
   "source": [
    "sentence_pos_nl=\"Mooi hotel en de service is geweldig\"\n",
    "sentence_neg_nl=\"De kamers zijn smerig en de wifi doet het niet\""
   ]
  },
  {
   "cell_type": "code",
   "execution_count": 12,
   "metadata": {},
   "outputs": [
    {
     "data": {
      "text/plain": [
       "[{'label': 'pos', 'score': 0.9999955892562866}]"
      ]
     },
     "execution_count": 12,
     "metadata": {},
     "output_type": "execute_result"
    }
   ],
   "source": [
    "sentimentdutch(sentence_pos_nl)"
   ]
  },
  {
   "cell_type": "code",
   "execution_count": 13,
   "metadata": {},
   "outputs": [
    {
     "data": {
      "text/plain": [
       "[{'label': 'neg', 'score': 0.6675440073013306}]"
      ]
     },
     "execution_count": 13,
     "metadata": {},
     "output_type": "execute_result"
    }
   ],
   "source": [
    "sentimentdutch(sentence_neg_nl)"
   ]
  },
  {
   "cell_type": "markdown",
   "metadata": {},
   "source": [
    "This seems to work fine too although the score for negative in the second example is much lower."
   ]
  },
  {
   "cell_type": "markdown",
   "metadata": {},
   "source": [
    "## Inspecting sentence representations using Simpletransformers"
   ]
  },
  {
   "cell_type": "markdown",
   "metadata": {},
   "source": [
    "The Simpletransformers package is built on top of the transformer package. It simplifies the use of transformers even more and provides excellent documentation: https://simpletransformers.ai\n",
    "\n",
    "The site explains also how you can fine-tune models yourself or even how to build models from scratch, assuming you have the computing power and the data.\n",
    "\n",
    "Here we are going to use it to inspect the sentence representations a bit more. Unfortunately, we need to load the English model again as an instantiation of a RepresentationModel. So if you have memory issues, please stop the kernel and start again from here.\n",
    "\n",
    "Loading the model may gave a lot of warnings. You can ignore these. If you do not have a graphical card (GPU) and or cuda installed to use the GPU you need to set use_cuda to False, as shown below."
   ]
  },
  {
   "cell_type": "code",
   "execution_count": 14,
   "metadata": {},
   "outputs": [
    {
     "name": "stderr",
     "output_type": "stream",
     "text": [
      "Some weights of the model checkpoint at distilbert-base-uncased-finetuned-sst-2-english were not used when initializing BertForTextRepresentation: ['distilbert.embeddings.word_embeddings.weight', 'distilbert.embeddings.position_embeddings.weight', 'distilbert.embeddings.LayerNorm.weight', 'distilbert.embeddings.LayerNorm.bias', 'distilbert.transformer.layer.0.attention.q_lin.weight', 'distilbert.transformer.layer.0.attention.q_lin.bias', 'distilbert.transformer.layer.0.attention.k_lin.weight', 'distilbert.transformer.layer.0.attention.k_lin.bias', 'distilbert.transformer.layer.0.attention.v_lin.weight', 'distilbert.transformer.layer.0.attention.v_lin.bias', 'distilbert.transformer.layer.0.attention.out_lin.weight', 'distilbert.transformer.layer.0.attention.out_lin.bias', 'distilbert.transformer.layer.0.sa_layer_norm.weight', 'distilbert.transformer.layer.0.sa_layer_norm.bias', 'distilbert.transformer.layer.0.ffn.lin1.weight', 'distilbert.transformer.layer.0.ffn.lin1.bias', 'distilbert.transformer.layer.0.ffn.lin2.weight', 'distilbert.transformer.layer.0.ffn.lin2.bias', 'distilbert.transformer.layer.0.output_layer_norm.weight', 'distilbert.transformer.layer.0.output_layer_norm.bias', 'distilbert.transformer.layer.1.attention.q_lin.weight', 'distilbert.transformer.layer.1.attention.q_lin.bias', 'distilbert.transformer.layer.1.attention.k_lin.weight', 'distilbert.transformer.layer.1.attention.k_lin.bias', 'distilbert.transformer.layer.1.attention.v_lin.weight', 'distilbert.transformer.layer.1.attention.v_lin.bias', 'distilbert.transformer.layer.1.attention.out_lin.weight', 'distilbert.transformer.layer.1.attention.out_lin.bias', 'distilbert.transformer.layer.1.sa_layer_norm.weight', 'distilbert.transformer.layer.1.sa_layer_norm.bias', 'distilbert.transformer.layer.1.ffn.lin1.weight', 'distilbert.transformer.layer.1.ffn.lin1.bias', 'distilbert.transformer.layer.1.ffn.lin2.weight', 'distilbert.transformer.layer.1.ffn.lin2.bias', 'distilbert.transformer.layer.1.output_layer_norm.weight', 'distilbert.transformer.layer.1.output_layer_norm.bias', 'distilbert.transformer.layer.2.attention.q_lin.weight', 'distilbert.transformer.layer.2.attention.q_lin.bias', 'distilbert.transformer.layer.2.attention.k_lin.weight', 'distilbert.transformer.layer.2.attention.k_lin.bias', 'distilbert.transformer.layer.2.attention.v_lin.weight', 'distilbert.transformer.layer.2.attention.v_lin.bias', 'distilbert.transformer.layer.2.attention.out_lin.weight', 'distilbert.transformer.layer.2.attention.out_lin.bias', 'distilbert.transformer.layer.2.sa_layer_norm.weight', 'distilbert.transformer.layer.2.sa_layer_norm.bias', 'distilbert.transformer.layer.2.ffn.lin1.weight', 'distilbert.transformer.layer.2.ffn.lin1.bias', 'distilbert.transformer.layer.2.ffn.lin2.weight', 'distilbert.transformer.layer.2.ffn.lin2.bias', 'distilbert.transformer.layer.2.output_layer_norm.weight', 'distilbert.transformer.layer.2.output_layer_norm.bias', 'distilbert.transformer.layer.3.attention.q_lin.weight', 'distilbert.transformer.layer.3.attention.q_lin.bias', 'distilbert.transformer.layer.3.attention.k_lin.weight', 'distilbert.transformer.layer.3.attention.k_lin.bias', 'distilbert.transformer.layer.3.attention.v_lin.weight', 'distilbert.transformer.layer.3.attention.v_lin.bias', 'distilbert.transformer.layer.3.attention.out_lin.weight', 'distilbert.transformer.layer.3.attention.out_lin.bias', 'distilbert.transformer.layer.3.sa_layer_norm.weight', 'distilbert.transformer.layer.3.sa_layer_norm.bias', 'distilbert.transformer.layer.3.ffn.lin1.weight', 'distilbert.transformer.layer.3.ffn.lin1.bias', 'distilbert.transformer.layer.3.ffn.lin2.weight', 'distilbert.transformer.layer.3.ffn.lin2.bias', 'distilbert.transformer.layer.3.output_layer_norm.weight', 'distilbert.transformer.layer.3.output_layer_norm.bias', 'distilbert.transformer.layer.4.attention.q_lin.weight', 'distilbert.transformer.layer.4.attention.q_lin.bias', 'distilbert.transformer.layer.4.attention.k_lin.weight', 'distilbert.transformer.layer.4.attention.k_lin.bias', 'distilbert.transformer.layer.4.attention.v_lin.weight', 'distilbert.transformer.layer.4.attention.v_lin.bias', 'distilbert.transformer.layer.4.attention.out_lin.weight', 'distilbert.transformer.layer.4.attention.out_lin.bias', 'distilbert.transformer.layer.4.sa_layer_norm.weight', 'distilbert.transformer.layer.4.sa_layer_norm.bias', 'distilbert.transformer.layer.4.ffn.lin1.weight', 'distilbert.transformer.layer.4.ffn.lin1.bias', 'distilbert.transformer.layer.4.ffn.lin2.weight', 'distilbert.transformer.layer.4.ffn.lin2.bias', 'distilbert.transformer.layer.4.output_layer_norm.weight', 'distilbert.transformer.layer.4.output_layer_norm.bias', 'distilbert.transformer.layer.5.attention.q_lin.weight', 'distilbert.transformer.layer.5.attention.q_lin.bias', 'distilbert.transformer.layer.5.attention.k_lin.weight', 'distilbert.transformer.layer.5.attention.k_lin.bias', 'distilbert.transformer.layer.5.attention.v_lin.weight', 'distilbert.transformer.layer.5.attention.v_lin.bias', 'distilbert.transformer.layer.5.attention.out_lin.weight', 'distilbert.transformer.layer.5.attention.out_lin.bias', 'distilbert.transformer.layer.5.sa_layer_norm.weight', 'distilbert.transformer.layer.5.sa_layer_norm.bias', 'distilbert.transformer.layer.5.ffn.lin1.weight', 'distilbert.transformer.layer.5.ffn.lin1.bias', 'distilbert.transformer.layer.5.ffn.lin2.weight', 'distilbert.transformer.layer.5.ffn.lin2.bias', 'distilbert.transformer.layer.5.output_layer_norm.weight', 'distilbert.transformer.layer.5.output_layer_norm.bias', 'pre_classifier.weight', 'pre_classifier.bias', 'classifier.weight', 'classifier.bias']\n",
      "- This IS expected if you are initializing BertForTextRepresentation from the checkpoint of a model trained on another task or with another architecture (e.g. initializing a BertForSequenceClassification model from a BertForPreTraining model).\n",
      "- This IS NOT expected if you are initializing BertForTextRepresentation from the checkpoint of a model that you expect to be exactly identical (initializing a BertForSequenceClassification model from a BertForSequenceClassification model).\n",
      "Some weights of BertForTextRepresentation were not initialized from the model checkpoint at distilbert-base-uncased-finetuned-sst-2-english and are newly initialized: ['embeddings.word_embeddings.weight', 'embeddings.position_embeddings.weight', 'embeddings.token_type_embeddings.weight', 'embeddings.LayerNorm.weight', 'embeddings.LayerNorm.bias', 'encoder.layer.0.attention.self.query.weight', 'encoder.layer.0.attention.self.query.bias', 'encoder.layer.0.attention.self.key.weight', 'encoder.layer.0.attention.self.key.bias', 'encoder.layer.0.attention.self.value.weight', 'encoder.layer.0.attention.self.value.bias', 'encoder.layer.0.attention.output.dense.weight', 'encoder.layer.0.attention.output.dense.bias', 'encoder.layer.0.attention.output.LayerNorm.weight', 'encoder.layer.0.attention.output.LayerNorm.bias', 'encoder.layer.0.intermediate.dense.weight', 'encoder.layer.0.intermediate.dense.bias', 'encoder.layer.0.output.dense.weight', 'encoder.layer.0.output.dense.bias', 'encoder.layer.0.output.LayerNorm.weight', 'encoder.layer.0.output.LayerNorm.bias', 'encoder.layer.1.attention.self.query.weight', 'encoder.layer.1.attention.self.query.bias', 'encoder.layer.1.attention.self.key.weight', 'encoder.layer.1.attention.self.key.bias', 'encoder.layer.1.attention.self.value.weight', 'encoder.layer.1.attention.self.value.bias', 'encoder.layer.1.attention.output.dense.weight', 'encoder.layer.1.attention.output.dense.bias', 'encoder.layer.1.attention.output.LayerNorm.weight', 'encoder.layer.1.attention.output.LayerNorm.bias', 'encoder.layer.1.intermediate.dense.weight', 'encoder.layer.1.intermediate.dense.bias', 'encoder.layer.1.output.dense.weight', 'encoder.layer.1.output.dense.bias', 'encoder.layer.1.output.LayerNorm.weight', 'encoder.layer.1.output.LayerNorm.bias', 'encoder.layer.2.attention.self.query.weight', 'encoder.layer.2.attention.self.query.bias', 'encoder.layer.2.attention.self.key.weight', 'encoder.layer.2.attention.self.key.bias', 'encoder.layer.2.attention.self.value.weight', 'encoder.layer.2.attention.self.value.bias', 'encoder.layer.2.attention.output.dense.weight', 'encoder.layer.2.attention.output.dense.bias', 'encoder.layer.2.attention.output.LayerNorm.weight', 'encoder.layer.2.attention.output.LayerNorm.bias', 'encoder.layer.2.intermediate.dense.weight', 'encoder.layer.2.intermediate.dense.bias', 'encoder.layer.2.output.dense.weight', 'encoder.layer.2.output.dense.bias', 'encoder.layer.2.output.LayerNorm.weight', 'encoder.layer.2.output.LayerNorm.bias', 'encoder.layer.3.attention.self.query.weight', 'encoder.layer.3.attention.self.query.bias', 'encoder.layer.3.attention.self.key.weight', 'encoder.layer.3.attention.self.key.bias', 'encoder.layer.3.attention.self.value.weight', 'encoder.layer.3.attention.self.value.bias', 'encoder.layer.3.attention.output.dense.weight', 'encoder.layer.3.attention.output.dense.bias', 'encoder.layer.3.attention.output.LayerNorm.weight', 'encoder.layer.3.attention.output.LayerNorm.bias', 'encoder.layer.3.intermediate.dense.weight', 'encoder.layer.3.intermediate.dense.bias', 'encoder.layer.3.output.dense.weight', 'encoder.layer.3.output.dense.bias', 'encoder.layer.3.output.LayerNorm.weight', 'encoder.layer.3.output.LayerNorm.bias', 'encoder.layer.4.attention.self.query.weight', 'encoder.layer.4.attention.self.query.bias', 'encoder.layer.4.attention.self.key.weight', 'encoder.layer.4.attention.self.key.bias', 'encoder.layer.4.attention.self.value.weight', 'encoder.layer.4.attention.self.value.bias', 'encoder.layer.4.attention.output.dense.weight', 'encoder.layer.4.attention.output.dense.bias', 'encoder.layer.4.attention.output.LayerNorm.weight', 'encoder.layer.4.attention.output.LayerNorm.bias', 'encoder.layer.4.intermediate.dense.weight', 'encoder.layer.4.intermediate.dense.bias', 'encoder.layer.4.output.dense.weight', 'encoder.layer.4.output.dense.bias', 'encoder.layer.4.output.LayerNorm.weight', 'encoder.layer.4.output.LayerNorm.bias', 'encoder.layer.5.attention.self.query.weight', 'encoder.layer.5.attention.self.query.bias', 'encoder.layer.5.attention.self.key.weight', 'encoder.layer.5.attention.self.key.bias', 'encoder.layer.5.attention.self.value.weight', 'encoder.layer.5.attention.self.value.bias', 'encoder.layer.5.attention.output.dense.weight', 'encoder.layer.5.attention.output.dense.bias', 'encoder.layer.5.attention.output.LayerNorm.weight', 'encoder.layer.5.attention.output.LayerNorm.bias', 'encoder.layer.5.intermediate.dense.weight', 'encoder.layer.5.intermediate.dense.bias', 'encoder.layer.5.output.dense.weight', 'encoder.layer.5.output.dense.bias', 'encoder.layer.5.output.LayerNorm.weight', 'encoder.layer.5.output.LayerNorm.bias', 'encoder.layer.6.attention.self.query.weight', 'encoder.layer.6.attention.self.query.bias', 'encoder.layer.6.attention.self.key.weight', 'encoder.layer.6.attention.self.key.bias', 'encoder.layer.6.attention.self.value.weight', 'encoder.layer.6.attention.self.value.bias', 'encoder.layer.6.attention.output.dense.weight', 'encoder.layer.6.attention.output.dense.bias', 'encoder.layer.6.attention.output.LayerNorm.weight', 'encoder.layer.6.attention.output.LayerNorm.bias', 'encoder.layer.6.intermediate.dense.weight', 'encoder.layer.6.intermediate.dense.bias', 'encoder.layer.6.output.dense.weight', 'encoder.layer.6.output.dense.bias', 'encoder.layer.6.output.LayerNorm.weight', 'encoder.layer.6.output.LayerNorm.bias', 'encoder.layer.7.attention.self.query.weight', 'encoder.layer.7.attention.self.query.bias', 'encoder.layer.7.attention.self.key.weight', 'encoder.layer.7.attention.self.key.bias', 'encoder.layer.7.attention.self.value.weight', 'encoder.layer.7.attention.self.value.bias', 'encoder.layer.7.attention.output.dense.weight', 'encoder.layer.7.attention.output.dense.bias', 'encoder.layer.7.attention.output.LayerNorm.weight', 'encoder.layer.7.attention.output.LayerNorm.bias', 'encoder.layer.7.intermediate.dense.weight', 'encoder.layer.7.intermediate.dense.bias', 'encoder.layer.7.output.dense.weight', 'encoder.layer.7.output.dense.bias', 'encoder.layer.7.output.LayerNorm.weight', 'encoder.layer.7.output.LayerNorm.bias', 'encoder.layer.8.attention.self.query.weight', 'encoder.layer.8.attention.self.query.bias', 'encoder.layer.8.attention.self.key.weight', 'encoder.layer.8.attention.self.key.bias', 'encoder.layer.8.attention.self.value.weight', 'encoder.layer.8.attention.self.value.bias', 'encoder.layer.8.attention.output.dense.weight', 'encoder.layer.8.attention.output.dense.bias', 'encoder.layer.8.attention.output.LayerNorm.weight', 'encoder.layer.8.attention.output.LayerNorm.bias', 'encoder.layer.8.intermediate.dense.weight', 'encoder.layer.8.intermediate.dense.bias', 'encoder.layer.8.output.dense.weight', 'encoder.layer.8.output.dense.bias', 'encoder.layer.8.output.LayerNorm.weight', 'encoder.layer.8.output.LayerNorm.bias', 'encoder.layer.9.attention.self.query.weight', 'encoder.layer.9.attention.self.query.bias', 'encoder.layer.9.attention.self.key.weight', 'encoder.layer.9.attention.self.key.bias', 'encoder.layer.9.attention.self.value.weight', 'encoder.layer.9.attention.self.value.bias', 'encoder.layer.9.attention.output.dense.weight', 'encoder.layer.9.attention.output.dense.bias', 'encoder.layer.9.attention.output.LayerNorm.weight', 'encoder.layer.9.attention.output.LayerNorm.bias', 'encoder.layer.9.intermediate.dense.weight', 'encoder.layer.9.intermediate.dense.bias', 'encoder.layer.9.output.dense.weight', 'encoder.layer.9.output.dense.bias', 'encoder.layer.9.output.LayerNorm.weight', 'encoder.layer.9.output.LayerNorm.bias', 'encoder.layer.10.attention.self.query.weight', 'encoder.layer.10.attention.self.query.bias', 'encoder.layer.10.attention.self.key.weight', 'encoder.layer.10.attention.self.key.bias', 'encoder.layer.10.attention.self.value.weight', 'encoder.layer.10.attention.self.value.bias', 'encoder.layer.10.attention.output.dense.weight', 'encoder.layer.10.attention.output.dense.bias', 'encoder.layer.10.attention.output.LayerNorm.weight', 'encoder.layer.10.attention.output.LayerNorm.bias', 'encoder.layer.10.intermediate.dense.weight', 'encoder.layer.10.intermediate.dense.bias', 'encoder.layer.10.output.dense.weight', 'encoder.layer.10.output.dense.bias', 'encoder.layer.10.output.LayerNorm.weight', 'encoder.layer.10.output.LayerNorm.bias', 'encoder.layer.11.attention.self.query.weight', 'encoder.layer.11.attention.self.query.bias', 'encoder.layer.11.attention.self.key.weight', 'encoder.layer.11.attention.self.key.bias', 'encoder.layer.11.attention.self.value.weight', 'encoder.layer.11.attention.self.value.bias', 'encoder.layer.11.attention.output.dense.weight', 'encoder.layer.11.attention.output.dense.bias', 'encoder.layer.11.attention.output.LayerNorm.weight', 'encoder.layer.11.attention.output.LayerNorm.bias', 'encoder.layer.11.intermediate.dense.weight', 'encoder.layer.11.intermediate.dense.bias', 'encoder.layer.11.output.dense.weight', 'encoder.layer.11.output.dense.bias', 'encoder.layer.11.output.LayerNorm.weight', 'encoder.layer.11.output.LayerNorm.bias', 'pooler.dense.weight', 'pooler.dense.bias']\n",
      "You should probably TRAIN this model on a down-stream task to be able to use it for predictions and inference.\n"
     ]
    }
   ],
   "source": [
    "from simpletransformers.language_representation import RepresentationModel\n",
    "        \n",
    "#sentences = [\"Example sentence 1\", \"Example sentence 2\"]\n",
    "model = RepresentationModel(\n",
    "        model_type=\"bert\",\n",
    "        model_name=\"distilbert-base-uncased-finetuned-sst-2-english\",\n",
    "        use_cuda=False ## If you cannot use a GPU set this to false\n",
    "    )"
   ]
  },
  {
   "cell_type": "markdown",
   "metadata": {},
   "source": [
    "The Representationmodel allows you to obtain a sentence encoding. We do that next for the positive English example which consists of 7 words:"
   ]
  },
  {
   "cell_type": "code",
   "execution_count": 25,
   "metadata": {},
   "outputs": [
    {
     "data": {
      "text/plain": [
       "'Nice hotel and the service is great'"
      ]
     },
     "execution_count": 25,
     "metadata": {},
     "output_type": "execute_result"
    }
   ],
   "source": [
    "sentence_pos_en"
   ]
  },
  {
   "cell_type": "markdown",
   "metadata": {},
   "source": [
    "According to the simpletransformers API the input must be a list even when it is a single sentence. If you pass a string as input, it will turn it into a list of charcaters, each character as a separate sentence."
   ]
  },
  {
   "cell_type": "code",
   "execution_count": 40,
   "metadata": {},
   "outputs": [],
   "source": [
    "word_vectors = model.encode_sentences([sentence_pos_en], combine_strategy=None)"
   ]
  },
  {
   "cell_type": "markdown",
   "metadata": {},
   "source": [
    "The result is a numpy array with the shape (1, 9, 768) "
   ]
  },
  {
   "cell_type": "code",
   "execution_count": 43,
   "metadata": {},
   "outputs": [
    {
     "name": "stdout",
     "output_type": "stream",
     "text": [
      "<class 'numpy.ndarray'>\n",
      "(1, 9, 768)\n"
     ]
    }
   ],
   "source": [
    "print(type(word_vectors))\n",
    "print(word_vectors.shape)"
   ]
  },
  {
   "cell_type": "markdown",
   "metadata": {},
   "source": [
    "The first number indicates the number of sentences, which is **1** in our case. The next digit **9** indicates the number of tokens and the final digit is the number of dimension for each token according to the transformer model, which **768** in case of BERT models.\n",
    "\n",
    "We can ask for the full embedding representation for the first token:"
   ]
  },
  {
   "cell_type": "code",
   "execution_count": 47,
   "metadata": {},
   "outputs": [
    {
     "name": "stdout",
     "output_type": "stream",
     "text": [
      "Nr of dimensions for the mebdding of the first token: 768\n",
      "[ 1.04256296e+00  1.20730138e+00 -2.28418064e+00 -1.70863599e-01\n",
      "  8.59602690e-01  2.32748842e+00  1.99286461e+00 -8.15500617e-01\n",
      "  6.97928667e-01 -1.39694130e+00  1.50937355e+00  7.11054862e-01\n",
      "  1.37449622e+00  8.42517495e-01 -3.14207375e-01 -8.12952578e-01\n",
      " -3.97341251e-01 -1.03303397e+00 -5.10449290e-01 -1.20056140e+00\n",
      " -7.32752562e-01  7.20587790e-01 -1.44411206e+00  3.56995106e-01\n",
      " -9.29633021e-01  1.99835110e+00  8.18394244e-01 -1.09987009e+00\n",
      "  7.16926515e-01 -1.44152030e-01 -1.39153317e-01 -1.10836399e+00\n",
      " -1.18662357e+00 -5.81328154e-01  1.02983475e+00 -4.36184645e-01\n",
      "  7.53236234e-01 -2.74777353e-01 -3.33947092e-01  2.18049026e+00\n",
      "  1.11832721e-02 -7.97076762e-01 -1.03800035e+00  2.75158525e-01\n",
      " -6.84793890e-01 -2.28931040e-01  1.16737545e+00 -5.01802921e-01\n",
      " -2.65207589e-01  7.03407943e-01 -3.98018062e-01 -2.45768476e+00\n",
      " -5.47964275e-01 -1.07832110e+00  4.06503260e-01 -4.04909134e-01\n",
      "  2.49084383e-01 -1.18468320e+00 -1.18210399e+00 -2.15926003e+00\n",
      "  5.17802060e-01  1.01746881e+00  4.04196352e-01 -1.33158302e+00\n",
      " -6.37339473e-01  2.67645538e-01  1.75218213e+00 -1.87728131e+00\n",
      "  1.41178012e+00  3.49268854e-01 -7.50259578e-01  6.15107656e-01\n",
      "  1.16256155e-01 -1.19360757e+00 -3.69111329e-01 -1.90277314e+00\n",
      " -9.49228033e-02 -1.29687881e+00  7.12921500e-01 -3.45111825e-02\n",
      " -7.58468449e-01  1.46727312e+00 -6.28225565e-01 -4.67602223e-01\n",
      "  2.16434538e-01 -2.96379536e-01 -8.56163979e-01  9.28218961e-01\n",
      " -4.87878770e-01 -8.43381107e-01  1.35224545e+00 -1.26352596e+00\n",
      " -9.22978163e-01  2.05619693e+00 -1.81890166e+00  6.43094629e-02\n",
      "  3.34716320e-01  1.04608500e+00 -2.59076595e-01  3.42024155e-02\n",
      "  3.75987291e-01  5.25852740e-01 -1.03408206e+00 -5.30292034e-01\n",
      "  1.21214557e+00 -2.56231993e-01  7.48275101e-01 -9.86034334e-01\n",
      "  6.93120778e-01 -5.11804402e-01  1.81303513e+00  9.74366546e-01\n",
      " -1.74292829e-02  2.48637110e-01  9.13526833e-01  1.13356066e+00\n",
      "  1.34795856e+00  8.86720419e-01 -1.44686186e+00 -3.27006960e+00\n",
      " -1.06708801e+00 -3.83681327e-01 -4.34642345e-01  2.87333250e-01\n",
      "  8.53839815e-01  8.57511222e-01  4.11155790e-01 -3.62265110e-01\n",
      "  1.25724351e+00 -4.21386272e-01  2.20382869e-01 -6.18379831e-01\n",
      " -6.52380407e-01  1.99442339e+00  6.28721058e-01 -7.40208253e-02\n",
      "  1.09820557e+00  8.86212230e-01  1.05409431e+00  1.17599107e-01\n",
      "  1.20352960e+00 -9.11825955e-01 -1.12437144e-01 -2.16738296e+00\n",
      " -3.73249203e-01  1.36554289e+00  2.58473843e-01  3.04119736e-01\n",
      "  1.81012642e+00 -9.06617880e-01 -1.57513678e+00 -1.12014800e-01\n",
      "  7.71892309e-01  1.79286981e+00  7.32205451e-01  6.18414581e-01\n",
      " -1.14406610e+00  3.68458360e-01 -1.95929229e-01  2.22376920e-02\n",
      "  4.07098472e-01  1.54453969e+00 -1.18874133e+00 -4.51792687e-01\n",
      " -1.85359195e-01  6.79815412e-01  7.18916833e-01  2.01430583e+00\n",
      " -3.00920129e-01 -3.40579301e-01  1.07375525e-01  9.08676684e-01\n",
      " -9.69586730e-01  1.45332611e+00  6.87592089e-01  7.70169273e-02\n",
      " -7.00117171e-01  5.74636221e-01  1.72431397e+00  4.82968807e-01\n",
      "  9.38793123e-01  1.20942521e+00 -7.31178820e-01  3.96941006e-01\n",
      " -4.78078574e-01  2.55049884e-01 -5.80259204e-01  2.11581063e+00\n",
      "  1.26037323e+00  3.95636111e-01  9.55054820e-01 -6.04388773e-01\n",
      " -1.55774248e+00 -5.83754420e-01 -7.72295058e-01 -9.33183968e-01\n",
      "  4.67287451e-01  7.64143229e-01 -2.06774548e-01 -4.14184421e-01\n",
      " -1.21715939e+00 -7.58659899e-01 -7.82566488e-01 -1.02946937e+00\n",
      "  5.01516834e-03  1.43556499e+00  1.18484712e+00  7.82466769e-01\n",
      "  1.84774891e-01 -1.76700637e-01  1.14600086e+00  1.52692854e+00\n",
      " -8.75284910e-01 -5.56968749e-01 -5.29614091e-01  1.79106846e-01\n",
      " -7.87554085e-01  2.25830197e-01 -7.90306628e-02  6.34784222e-01\n",
      "  4.10172969e-01  5.68616316e-02  1.61111736e+00  1.08870912e+00\n",
      "  1.58958480e-01  2.56567502e+00 -6.16940379e-01  3.33929718e-01\n",
      " -1.70974088e+00  4.20430720e-01  4.77719724e-01  6.42029226e-01\n",
      "  2.68705219e-01  6.84317231e-01  1.12696314e+00  1.24306917e+00\n",
      "  9.74177063e-01 -4.81082976e-01  1.97974074e+00 -1.15706611e+00\n",
      " -4.01781529e-01  7.81364322e-01  4.13036972e-01  2.10707045e+00\n",
      " -1.18001306e+00  8.94401968e-01  1.88111103e+00  1.05434859e+00\n",
      " -7.46218443e-01 -1.38664842e+00 -6.26641810e-01  2.32998788e-01\n",
      "  9.24837232e-01 -9.69367772e-02 -5.01549482e-01  1.03866029e+00\n",
      " -3.05693603e+00 -3.65617722e-02  1.19403070e-02 -1.40508473e+00\n",
      " -8.17406997e-02 -3.35481018e-02 -1.23901939e+00 -1.33211744e+00\n",
      "  1.45171678e+00 -1.15909338e+00  2.60751390e+00  1.85218298e+00\n",
      "  4.71510231e-01  4.12624210e-01  3.83586705e-01 -1.13788950e+00\n",
      " -2.65190101e+00  2.90950000e-01 -6.90240860e-01  1.30400836e+00\n",
      " -2.08187914e+00 -4.87253010e-01 -1.58905828e+00  6.01272225e-01\n",
      "  7.06206143e-01 -2.77167648e-01  9.44868624e-02 -1.02882460e-01\n",
      "  5.50343812e-01 -7.97597826e-01 -1.10421276e+00  9.40574408e-01\n",
      " -2.84517384e+00  1.63267946e+00  2.26610541e-01  1.02795255e+00\n",
      " -6.03369057e-01  4.38750610e-02  2.62630172e-02  1.46882951e-01\n",
      " -8.24741483e-01  6.64844811e-01  9.76373136e-01  1.01484776e+00\n",
      " -2.77110219e-01 -6.18948102e-01 -9.07269791e-02 -1.10784316e+00\n",
      "  7.76732087e-01 -1.01720715e+00 -5.48922956e-01  9.53486860e-01\n",
      "  1.10490374e-01  2.35870201e-02 -3.39302123e-01  5.95110595e-01\n",
      " -6.15766823e-01 -1.53407300e+00 -1.89364746e-01 -6.45077467e-01\n",
      "  2.59758174e-01 -1.26302230e+00  2.33887053e+00 -9.57801461e-01\n",
      "  4.86466080e-01  2.77049512e-01 -5.20693243e-01  6.01152062e-01\n",
      " -2.12037504e-01  1.06030524e+00  8.86243701e-01  7.02395737e-01\n",
      "  8.09611619e-01 -9.83429432e-01 -2.41508052e-01  1.62434423e+00\n",
      "  1.97858602e-01  3.98125082e-01  1.01741385e+00 -1.27011776e+00\n",
      " -1.84957969e+00  5.76547980e-01 -1.15940487e+00 -7.33114064e-01\n",
      " -1.57834935e+00 -6.08370245e-01  7.05935061e-01 -1.30409166e-01\n",
      " -1.50961745e+00 -1.08213568e+00  2.62425601e-01 -1.23078614e-01\n",
      " -1.27540553e+00 -5.51246941e-01 -3.49258900e-01 -6.53275609e-01\n",
      " -1.72413754e+00 -2.33684674e-01  6.01364255e-01  2.03644848e+00\n",
      " -1.24065423e+00  2.24625111e+00 -1.68103516e-01  8.42162251e-01\n",
      " -2.11523220e-01 -3.57611150e-01 -3.94832045e-01 -2.59422511e-01\n",
      "  9.24128294e-01 -1.39860362e-01  1.09227633e+00 -1.75788049e-02\n",
      "  1.53929138e+00 -4.64023739e-01 -5.87803662e-01 -1.36530769e+00\n",
      " -1.30792582e+00 -2.55758524e-01  2.24766326e+00 -9.26475823e-01\n",
      "  2.73426354e-01 -2.73929238e-01  9.31209445e-01  1.01640046e+00\n",
      " -6.24856710e-01 -5.37959814e-01  6.87682480e-02  1.63522172e+00\n",
      "  3.23582828e-01 -6.15557313e-01 -6.84366524e-01 -9.91412818e-01\n",
      " -2.76275784e-01 -7.88653910e-01  1.66354209e-01 -1.19972360e+00\n",
      "  1.11222577e+00  1.30617708e-01  2.04306608e-03  4.75125134e-01\n",
      " -8.14706981e-01  1.13841546e+00 -2.92197168e-01 -3.75432342e-01\n",
      " -1.09060860e+00 -8.05322886e-01 -7.78376102e-01 -4.54448789e-01\n",
      " -1.04648769e+00 -4.93397623e-01  9.64602381e-02 -1.88545585e+00\n",
      " -8.24751332e-02  1.79931021e+00  7.95267895e-03 -2.74864626e+00\n",
      "  9.62824941e-01  1.13454235e+00 -1.15663218e+00  1.14685571e+00\n",
      "  6.48186028e-01 -3.90375435e-01 -5.52145183e-01 -1.30783880e+00\n",
      "  2.24647164e+00  1.16412655e-01  1.70745194e+00 -1.08378935e+00\n",
      "  1.28688490e+00 -4.51428145e-02  2.01089430e+00 -4.03302014e-01\n",
      " -8.30621243e-01 -7.04617381e-01  5.31130135e-01 -9.34365451e-01\n",
      "  6.12427294e-01 -3.83851647e-01  1.39083326e+00 -1.00187182e+00\n",
      "  1.04344577e-01  5.88232934e-01 -7.78288841e-01 -1.20294380e+00\n",
      "  2.35946432e-01  3.36483002e-01 -1.67914867e+00 -4.56236094e-01\n",
      " -8.32421839e-01  2.76203424e-01  1.14124060e+00  1.75333226e+00\n",
      " -2.96189928e+00 -2.99560696e-01 -2.28351817e-01  2.17305589e+00\n",
      " -1.78610936e-01 -1.27015293e+00  1.32466125e+00  5.18534780e-02\n",
      " -3.36166024e-01 -1.30936444e+00  1.52535841e-01  3.42116952e-01\n",
      " -1.74683928e+00  1.52186304e-01  7.18687594e-01 -1.12672865e+00\n",
      " -6.51871443e-01 -6.88398540e-01 -1.25043535e+00  1.23940200e-01\n",
      " -7.95188904e-01  9.20282304e-02  7.24738002e-01  2.35717058e-01\n",
      "  4.43368375e-01  1.08857954e+00  1.14459646e+00 -1.27841964e-01\n",
      "  2.61708200e-01 -2.27917457e+00 -9.20758188e-01 -9.81238335e-02\n",
      "  9.34163868e-01 -9.86344159e-01  1.30549088e-01  3.22997779e-01\n",
      " -1.33909512e+00  2.96318233e-01 -2.30055881e+00  6.93352818e-01\n",
      "  1.39193028e-01  8.20271611e-01  2.40685731e-01  5.77673137e-01\n",
      "  1.19869351e+00 -1.75192630e+00 -3.16356063e-01 -1.50395286e+00\n",
      "  1.66793644e-01 -2.18207932e+00 -1.70044392e-01  9.50915635e-01\n",
      " -1.72523469e-01 -2.38625121e+00  6.40933990e-01 -5.93221903e-01\n",
      " -6.17351711e-01 -2.94991910e-01 -1.66745067e-01 -4.32549208e-01\n",
      "  5.74681401e-01 -4.26682889e-01 -6.38660192e-01 -2.27439821e-01\n",
      "  4.03635111e-03  3.39024693e-01 -6.08386159e-01 -4.05704230e-01\n",
      " -5.70972741e-01  4.21251923e-01  2.28902072e-01  5.51317811e-01\n",
      " -6.89345896e-01 -1.03127301e+00  9.93595123e-01 -6.43645644e-01\n",
      " -3.94924372e-01 -1.26852810e+00  9.39512610e-01 -2.26240307e-01\n",
      " -7.45325446e-01  7.74194241e-01  4.55723912e-01  5.94756663e-01\n",
      "  4.99531239e-01 -1.68280274e-01 -2.47650433e+00 -4.37581182e-01\n",
      "  7.89654441e-03  1.54229283e+00 -9.31268215e-01  6.24318004e-01\n",
      "  1.70289040e+00 -1.72540084e-01 -8.29870105e-01  4.51051772e-01\n",
      "  1.32386374e+00 -7.01220036e-01  4.93911117e-01  5.64550400e-01\n",
      "  7.15734810e-03  2.53293604e-01 -1.20264685e+00 -1.91291308e+00\n",
      "  2.22384319e-01  1.03618169e+00 -1.06238723e-01 -7.16069281e-01\n",
      "  1.99979797e-01  6.58058822e-01 -5.52258827e-02  9.85235572e-02\n",
      " -3.57341543e-02 -3.49124610e-01  2.19034266e+00  1.09358676e-01\n",
      "  6.23190403e-01 -6.99283779e-01  1.23275153e-01  7.79193118e-02\n",
      "  6.18342280e-01 -1.60909986e+00 -3.70625824e-01  1.83883655e+00\n",
      " -1.00157535e+00 -1.14656711e+00  2.60431111e-01  8.99687767e-01\n",
      "  2.53426343e-01  8.40651810e-01 -9.84837413e-02  3.08332086e-01\n",
      " -5.92815161e-01 -5.91814101e-01  2.74336457e-01  1.64361864e-01\n",
      " -8.08010578e-01  1.36564016e+00 -5.89569628e-01  4.66181576e-01\n",
      " -1.60934842e+00  1.30321175e-01  2.73716092e-01 -1.38470858e-01\n",
      " -3.57760757e-01  1.92159760e+00 -1.50051439e+00 -8.55299681e-02\n",
      "  5.11363745e-01 -2.04568291e+00  2.82238573e-01 -4.02629882e-01\n",
      " -1.56115144e-01 -1.33037102e+00 -8.45103502e-01  2.62678218e+00\n",
      "  1.28592920e+00 -1.66952729e+00  3.57261062e-01 -6.31193578e-01\n",
      "  1.67516515e-01 -2.73577154e-01 -8.60240817e-01  1.10461187e+00\n",
      "  2.84357488e-01  6.42852366e-01  7.18181252e-01 -5.11957169e-01\n",
      " -4.70397472e-01  5.86698055e-01 -6.43269300e-01 -7.29741812e-01\n",
      "  1.58881199e+00 -6.83736026e-01  1.66201115e+00 -4.45606411e-01\n",
      " -5.87717816e-02  1.71027407e-01 -3.24578792e-01  5.68579376e-01\n",
      "  3.80050898e-01 -1.18226814e+00 -1.56875670e-01  6.37682438e-01\n",
      "  6.87122881e-01  9.93380666e-01 -1.26581621e+00  4.38088328e-01\n",
      "  6.65451646e-01  2.80387383e-02 -1.67758262e+00 -1.06941007e-01\n",
      " -1.28343746e-01  1.33340621e+00  1.32969916e+00  1.00800431e+00\n",
      "  2.35048950e-01  2.56233126e-01  2.18060493e+00 -1.21147358e+00\n",
      " -9.88117278e-01  3.13029170e-01  1.08609661e-01  1.57789338e+00\n",
      " -2.04163074e+00  9.92267430e-02 -8.42052817e-01 -4.40109193e-01\n",
      " -4.15576458e-01 -3.17071974e-01 -1.57771242e+00  4.23215419e-01\n",
      "  1.12443721e+00 -1.52921355e+00  1.23753583e+00  1.67187381e+00\n",
      " -1.45193660e+00  2.37472784e-02 -1.47518623e+00  1.24882007e+00\n",
      " -1.38635266e+00 -5.19079506e-01 -1.97933808e-01  1.19084311e+00\n",
      "  1.11543226e+00  4.82068777e-01  1.76975027e-01 -8.41034949e-01\n",
      " -1.17021990e+00 -2.07091212e+00  5.76336145e-01  1.03353783e-01\n",
      "  4.50300574e-01  2.14023662e+00 -1.52679443e+00  2.03056455e+00\n",
      " -2.03533912e+00 -8.78637791e-01 -2.22320056e+00  1.33726144e+00\n",
      " -2.98220962e-01  9.58006203e-01 -7.24958897e-01  3.80361706e-01\n",
      " -7.47713074e-02 -4.12142545e-01  1.12835026e+00 -5.31483054e-01\n",
      "  9.95652914e-01 -3.69261056e-01  4.94245499e-01  2.99242765e-01\n",
      " -7.63447821e-01 -1.43595800e-01  1.25585850e-02 -3.81599665e-02\n",
      "  4.00101662e-01 -1.54844427e+00  1.84671354e+00  1.53652430e+00\n",
      " -4.12404925e-01  5.89168854e-02  1.14367986e+00  8.90587509e-01\n",
      " -1.02147929e-01 -8.71521086e-02  3.38908099e-02 -5.08846164e-01\n",
      "  2.27336931e+00  6.72278821e-01  1.61907065e+00  1.84561476e-01\n",
      "  1.66548803e-01 -2.08401009e-01 -5.34004569e-01  3.28551590e-01\n",
      "  3.42217714e-01 -1.44484985e+00  8.07364523e-01 -2.18178824e-01\n",
      " -1.30996597e+00 -2.11154714e-01  5.74418068e-01  9.93612587e-01\n",
      "  7.85455525e-01 -2.47506499e-01  1.98814884e-01 -1.46186960e+00\n",
      "  2.68199950e-01 -9.10819232e-01 -1.71579301e+00 -1.04439569e+00\n",
      "  6.94506289e-03  1.82945323e+00  1.18440020e+00 -9.04486835e-01\n",
      " -5.55551291e-01  3.68036449e-01  1.78112939e-01  7.22895026e-01\n",
      "  8.71107459e-01  1.56872010e+00 -7.85705626e-01  6.73165321e-01\n",
      "  1.23413749e-01 -5.14643610e-01 -5.62217720e-02  8.10932159e-01\n",
      " -2.91878462e-01  9.87927079e-01 -5.18780708e-01 -1.61551702e+00\n",
      " -1.29099324e-01 -1.52217150e-01 -6.84216976e-01  9.21291590e-01\n",
      "  6.00966752e-01  3.78437847e-01  5.27690053e-01  3.71218145e-01]\n"
     ]
    }
   ],
   "source": [
    "print('Nr of dimensions for the mebdding of the first token:', len(word_vectors[0][0]))\n",
    "print(word_vectors[0][0])"
   ]
  },
  {
   "cell_type": "markdown",
   "metadata": {},
   "source": [
    "**WAIT** Our sentence has 7 words so why do we get 9 tokens here?"
   ]
  },
  {
   "cell_type": "markdown",
   "metadata": {},
   "source": [
    "We can  use the tokenizer of the model to get the token representation of the transformer and check it out."
   ]
  },
  {
   "cell_type": "code",
   "execution_count": 48,
   "metadata": {},
   "outputs": [
    {
     "data": {
      "text/plain": [
       "{'input_ids': [101, 100, 3309, 1998, 1996, 2326, 2003, 2307, 102], 'token_type_ids': [0, 0, 0, 0, 0, 0, 0, 0, 0], 'attention_mask': [1, 1, 1, 1, 1, 1, 1, 1, 1]}"
      ]
     },
     "execution_count": 48,
     "metadata": {},
     "output_type": "execute_result"
    }
   ],
   "source": [
    "tokenized_sentence = model.tokenizer(sentence_pos_en)\n",
    "tokenized_sentence"
   ]
  },
  {
   "cell_type": "markdown",
   "metadata": {},
   "source": [
    "Although our sentence has 7 words, we get 9 identifiers. We can use the **decode** function to convert them back to words:"
   ]
  },
  {
   "cell_type": "code",
   "execution_count": 49,
   "metadata": {},
   "outputs": [
    {
     "data": {
      "text/plain": [
       "'[ C L S ]'"
      ]
     },
     "execution_count": 49,
     "metadata": {},
     "output_type": "execute_result"
    }
   ],
   "source": [
    "model.tokenizer.decode(101)"
   ]
  },
  {
   "cell_type": "markdown",
   "metadata": {},
   "source": [
    "The first token is the special token **CLS** which is an abstract sentence representation. Let's check another one:"
   ]
  },
  {
   "cell_type": "code",
   "execution_count": 50,
   "metadata": {},
   "outputs": [
    {
     "data": {
      "text/plain": [
       "'h o t e l'"
      ]
     },
     "execution_count": 50,
     "metadata": {},
     "output_type": "execute_result"
    }
   ],
   "source": [
    "model.tokenizer.decode(3309)"
   ]
  },
  {
   "cell_type": "markdown",
   "metadata": {},
   "source": [
    "Allright, this a word from our sentence. Let's decode them all:"
   ]
  },
  {
   "cell_type": "code",
   "execution_count": 51,
   "metadata": {},
   "outputs": [
    {
     "name": "stdout",
     "output_type": "stream",
     "text": [
      "101 [ C L S ]\n",
      "100 [ U N K ]\n",
      "3309 h o t e l\n",
      "1998 a n d\n",
      "1996 t h e\n",
      "2326 s e r v i c e\n",
      "2003 i s\n",
      "2307 g r e a t\n",
      "102 [ S E P ]\n"
     ]
    }
   ],
   "source": [
    "tokenid_list = tokenized_sentence['input_ids']\n",
    "for token_id in tokenid_list:\n",
    "    print(token_id, model.tokenizer.decode(token_id))"
   ]
  },
  {
   "cell_type": "markdown",
   "metadata": {},
   "source": [
    "The transformer model added the special tokens **CLS** and **SEP** but also represented our \"Nice\" with the **UNK** token. Any idea why? Check the name of the model we used....."
   ]
  },
  {
   "cell_type": "markdown",
   "metadata": {},
   "source": [
    "We used the uncased model, which means that for training all inoput was downcased."
   ]
  },
  {
   "cell_type": "markdown",
   "metadata": {},
   "source": [
    "# End of this notebook"
   ]
  },
  {
   "cell_type": "code",
   "execution_count": null,
   "metadata": {},
   "outputs": [],
   "source": []
  }
 ],
 "metadata": {
  "kernelspec": {
   "display_name": "Python 3",
   "language": "python",
   "name": "python3"
  },
  "language_info": {
   "codemirror_mode": {
    "name": "ipython",
    "version": 3
   },
   "file_extension": ".py",
   "mimetype": "text/x-python",
   "name": "python",
   "nbconvert_exporter": "python",
   "pygments_lexer": "ipython3",
   "version": "3.7.4"
  }
 },
 "nbformat": 4,
 "nbformat_minor": 4
}
