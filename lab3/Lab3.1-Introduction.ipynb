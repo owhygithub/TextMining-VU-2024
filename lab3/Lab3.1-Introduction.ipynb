{
 "cells": [
  {
   "cell_type": "markdown",
   "metadata": {},
   "source": [
    "# Lab-3 Sentiment Analysis"
   ]
  },
  {
   "cell_type": "markdown",
   "metadata": {},
   "source": [
    "Copyright: Vrije Universiteit Amsterdam, Faculty of Humanities, CLTL"
   ]
  },
  {
   "cell_type": "markdown",
   "metadata": {},
   "source": [
    "This lab session covers the following topics:\n",
    "\n",
    "<ol>\n",
    "    <li>Evaluation of NLP systems\n",
    "    <li>Sentiment analysis using lexical lookup\n",
    "    <li>How to represent texts as features for machine learning\n",
    "    <li>Sentiment analysis using machine learning\n",
    "    <li>Sentiment classification using transformer models\n",
    "</ol>\n",
    "\n",
    "We assume that you have studied the notebooks of Lab1 and Lab2 before you start this lab. Especially Lab2 is important for the assignment of this lab.\n",
    "\n",
    "The following notebooks should be used in the following order:\n",
    "\n",
    "<ol>\n",
    "    <li>Lab3.2 - Sentiment-analysis-with-VADER.ipynb\n",
    "    <li>Lab3.3 - Sentiment-analysis-with-scikit-learn.ipynb\n",
    "    <li>Lab3.4 - Sentiment-analysis-with-transformers.ipynb\n",
    "    <li>Lab3 - assignment.ipynb\n",
    "</ol>"
   ]
  },
  {
   "cell_type": "markdown",
   "metadata": {},
   "source": [
    "## End of this notebook"
   ]
  },
  {
   "cell_type": "code",
   "execution_count": null,
   "metadata": {},
   "outputs": [],
   "source": []
  }
 ],
 "metadata": {
  "kernelspec": {
   "display_name": "Python 3",
   "language": "python",
   "name": "python3"
  },
  "language_info": {
   "codemirror_mode": {
    "name": "ipython",
    "version": 3
   },
   "file_extension": ".py",
   "mimetype": "text/x-python",
   "name": "python",
   "nbconvert_exporter": "python",
   "pygments_lexer": "ipython3",
   "version": "3.7.4"
  }
 },
 "nbformat": 4,
 "nbformat_minor": 4
}
